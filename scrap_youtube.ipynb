{
 "cells": [
  {
   "attachments": {},
   "cell_type": "markdown",
   "metadata": {},
   "source": [
    "Amélioration possible : L'accès aux informations des vidéos avec le \"ID\""
   ]
  },
  {
   "cell_type": "code",
   "execution_count": 62,
   "metadata": {},
   "outputs": [
    {
     "name": "stderr",
     "output_type": "stream",
     "text": [
      "C:\\Users\\vgvic\\AppData\\Local\\Temp\\ipykernel_15824\\1357152977.py:10: DeprecationWarning: executable_path has been deprecated, please pass in a Service object\n",
      "  driver = webdriver.Chrome(ChromeDriverManager().install())\n"
     ]
    },
    {
     "ename": "AttributeError",
     "evalue": "'list' object has no attribute 'text'",
     "output_type": "error",
     "traceback": [
      "\u001b[1;31m---------------------------------------------------------------------------\u001b[0m",
      "\u001b[1;31mAttributeError\u001b[0m                            Traceback (most recent call last)",
      "Cell \u001b[1;32mIn [62], line 47\u001b[0m\n\u001b[0;32m     43\u001b[0m date\u001b[39m=\u001b[39m []\n\u001b[0;32m     45\u001b[0m \u001b[39mfor\u001b[39;00m i \u001b[39min\u001b[39;00m \u001b[39mrange\u001b[39m(\u001b[39m1\u001b[39m,\u001b[39m101\u001b[39m):\n\u001b[1;32m---> 47\u001b[0m     titre\u001b[39m+\u001b[39m\u001b[39m=\u001b[39m driver\u001b[39m.\u001b[39;49mfind_elements(By\u001b[39m.\u001b[39;49mXPATH,\u001b[39m\"\u001b[39;49m\u001b[39m/html/body/ytd-app/div[1]/ytd-page-manager/ytd-browse/ytd-two-column-browse-results-renderer/div[1]/ytd-section-list-renderer/div[2]/ytd-item-section-renderer/div[3]/ytd-grid-renderer/div[1]/ytd-grid-video-renderer[\u001b[39;49m\u001b[39m\"\u001b[39;49m\u001b[39m+\u001b[39;49m\u001b[39mstr\u001b[39;49m(i)\u001b[39m+\u001b[39;49m\u001b[39m\"\u001b[39;49m\u001b[39m]/div[1]/div[1]/div[1]/h3/a\u001b[39;49m\u001b[39m\"\u001b[39;49m)\u001b[39m.\u001b[39;49mtext\n\u001b[0;32m     48\u001b[0m     nb_vue\u001b[39m+\u001b[39m\u001b[39m=\u001b[39m driver\u001b[39m.\u001b[39mfind_elements(By\u001b[39m.\u001b[39mXPATH,\u001b[39m\"\u001b[39m\u001b[39m/html/body/ytd-app/div[1]/ytd-page-manager/ytd-browse/ytd-two-column-browse-results-renderer/div[1]/ytd-section-list-renderer/div[2]/ytd-item-section-renderer/div[3]/ytd-grid-renderer/div[1]/ytd-grid-video-renderer[\u001b[39m\u001b[39m\"\u001b[39m\u001b[39m+\u001b[39m\u001b[39mstr\u001b[39m(i)\u001b[39m+\u001b[39m\u001b[39m\"\u001b[39m\u001b[39m]/div[1]/div[1]/div[1]/div/div[1]/div[2]/span[1]\u001b[39m\u001b[39m\"\u001b[39m)\u001b[39m.\u001b[39mtext\n\u001b[0;32m     49\u001b[0m     date\u001b[39m+\u001b[39m\u001b[39m=\u001b[39m driver\u001b[39m.\u001b[39mfind_elements(By\u001b[39m.\u001b[39mXPATH,\u001b[39m\"\u001b[39m\u001b[39m/html/body/ytd-app/div[1]/ytd-page-manager/ytd-browse/ytd-two-column-browse-results-renderer/div[1]/ytd-section-list-renderer/div[2]/ytd-item-section-renderer/div[3]/ytd-grid-renderer/div[1]/ytd-grid-video-renderer[\u001b[39m\u001b[39m\"\u001b[39m\u001b[39m+\u001b[39m\u001b[39mstr\u001b[39m(i)\u001b[39m+\u001b[39m\u001b[39m\"\u001b[39m\u001b[39m]/div[1]/div[1]/div[1]/div/div[1]/div[2]/span[2]\u001b[39m\u001b[39m\"\u001b[39m)\u001b[39m.\u001b[39mtext\n",
      "\u001b[1;31mAttributeError\u001b[0m: 'list' object has no attribute 'text'"
     ]
    }
   ],
   "source": [
    "import pandas as pd\n",
    "from selenium import webdriver\n",
    "from selenium.webdriver.common.by import By\n",
    "from selenium.webdriver.common.keys import Keys\n",
    "from selenium.webdriver.support.ui import WebDriverWait\n",
    "from selenium.webdriver.support import expected_conditions as EC\n",
    "import time\n",
    "from webdriver_manager.chrome import ChromeDriverManager\n",
    "\n",
    "driver = webdriver.Chrome(ChromeDriverManager().install())\n",
    "driver.maximize_window()\n",
    "\n",
    "presence = EC.presence_of_element_located\n",
    "visible = EC.visibility_of_element_located\n",
    "wait = WebDriverWait(driver, 5)\n",
    "\n",
    "# Navigate to url with video being appended to search_query\n",
    "driver.get('https://www.youtube.com/results?search_query={}'.format(str('Apex Legends')))\n",
    "\n",
    "button = driver.find_element(By.XPATH,\"//*[@id='content']/div[2]/div[6]/div[1]/ytd-button-renderer[1]/yt-button-shape/button/yt-touch-feedback-shape/div/div[2]\")\n",
    "button.click()\n",
    "\n",
    "# play the video\n",
    "\n",
    "driver.find_element(By.XPATH, \"//*[@id='watch-card-subtitle']\").click()\n",
    "wait.until(visible((By.XPATH, \"//*[@id='tabsContent']/tp-yt-paper-tab[3]/div\")))\n",
    "driver.find_element(By.XPATH, \"//*[@id='tabsContent']/tp-yt-paper-tab[3]/div\").click()\n",
    "\n",
    "time.sleep(1)\n",
    "\n",
    "height = driver.execute_script('''var body = document.body,\n",
    "                                    html = document.documentElement;\n",
    "                                    var height = Math.max( body.scrollHeight, body.offsetHeight, \n",
    "                                    html.clientHeight, html.scrollHeight, html.offsetHeight );\n",
    "                                    return height;''')\n",
    "\n",
    "driver.execute_script(\"window.scrollTo(0, \"+str(height)+\");\")\n",
    "\n",
    "# Extraire le nombre de spectateurs à partir de l'élément HTML approprié\n",
    "\n",
    "res=[]\n",
    "titre= []\n",
    "nb_vue= []\n",
    "date= []\n",
    "\n",
    "for i in range(1,101):\n",
    "\n",
    "    titre+= driver.find_elements(By.XPATH,\"/html/body/ytd-app/div[1]/ytd-page-manager/ytd-browse/ytd-two-column-browse-results-renderer/div[1]/ytd-section-list-renderer/div[2]/ytd-item-section-renderer/div[3]/ytd-grid-renderer/div[1]/ytd-grid-video-renderer[\"+str(i)+\"]/div[1]/div[1]/div[1]/h3/a\")\n",
    "    nb_vue+= driver.find_elements(By.XPATH,\"/html/body/ytd-app/div[1]/ytd-page-manager/ytd-browse/ytd-two-column-browse-results-renderer/div[1]/ytd-section-list-renderer/div[2]/ytd-item-section-renderer/div[3]/ytd-grid-renderer/div[1]/ytd-grid-video-renderer[\"+str(i)+\"]/div[1]/div[1]/div[1]/div/div[1]/div[2]/span[1]\")\n",
    "    date+= driver.find_elements(By.XPATH,\"/html/body/ytd-app/div[1]/ytd-page-manager/ytd-browse/ytd-two-column-browse-results-renderer/div[1]/ytd-section-list-renderer/div[2]/ytd-item-section-renderer/div[3]/ytd-grid-renderer/div[1]/ytd-grid-video-renderer[\"+str(i)+\"]/div[1]/div[1]/div[1]/div/div[1]/div[2]/span[2]\")\n",
    "\n",
    "# Récupération des données des vidéos Youtube\n",
    "\n",
    "titres= [titre[i].text for i in range(len(titre))]\n",
    "nb_vues= [nb_vue[i].text for i in range(len(nb_vue))]\n",
    "dates= [date[i].text for i in range(len(date))]\n",
    "\n",
    "res= pd.DataFrame(list(zip(titres, nb_vues, dates)), columns=[\"Titre de la vidéo\", \"Nombre de vues\", \"Date de publication\"]) #Dataframe final\n",
    "\n",
    "res"
   ]
  }
 ],
 "metadata": {
  "kernelspec": {
   "display_name": "Python 3",
   "language": "python",
   "name": "python3"
  },
  "language_info": {
   "codemirror_mode": {
    "name": "ipython",
    "version": 3
   },
   "file_extension": ".py",
   "mimetype": "text/x-python",
   "name": "python",
   "nbconvert_exporter": "python",
   "pygments_lexer": "ipython3",
   "version": "3.10.7"
  },
  "orig_nbformat": 4,
  "vscode": {
   "interpreter": {
    "hash": "0284b1e34e494781da6537966084e394639bb3ab30a3ea3d0b2b75175f82c078"
   }
  }
 },
 "nbformat": 4,
 "nbformat_minor": 2
}
