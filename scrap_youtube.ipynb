{
 "cells": [
  {
   "cell_type": "code",
   "execution_count": 34,
   "metadata": {},
   "outputs": [
    {
     "name": "stderr",
     "output_type": "stream",
     "text": [
      "C:\\Users\\vgvic\\AppData\\Local\\Temp\\ipykernel_10676\\375657536.py:10: DeprecationWarning: executable_path has been deprecated, please pass in a Service object\n",
      "  driver = webdriver.Chrome(ChromeDriverManager().install())\n"
     ]
    },
    {
     "name": "stdout",
     "output_type": "stream",
     "text": [
      "                                     Titre de la vidéo Nombre de vues  \\\n",
      "0                                                                       \n",
      "1                                                                       \n",
      "2                                                                       \n",
      "3                                                                       \n",
      "4                                                                       \n",
      "..                                                 ...            ...   \n",
      "124  ImperialHal Shredding The Ranked Lobby With Co...      23 k vues   \n",
      "125   Apex Legends JUST Answered ONE of Our PRAYERS...      16 k vues   \n",
      "126  What Gaming Chair is the BEST for Apex Legends...     9,8 k vues   \n",
      "127  They Probably Reported BIG E After That.. - Ap...      21 k vues   \n",
      "128  LEAKED Season 16 BATTLE PASS Skins (Apex Legends)      27 k vues   \n",
      "\n",
      "    Date de publication  \n",
      "0                        \n",
      "1                        \n",
      "2                        \n",
      "3                        \n",
      "4                        \n",
      "..                  ...  \n",
      "124      il y a 4 jours  \n",
      "125       il y a 1 jour  \n",
      "126      il y a 5 jours  \n",
      "127      il y a 3 jours  \n",
      "128       il y a 1 jour  \n",
      "\n",
      "[129 rows x 3 columns]\n"
     ]
    }
   ],
   "source": [
    "import pandas as pd\n",
    "from selenium import webdriver\n",
    "from selenium.webdriver.common.by import By\n",
    "from selenium.webdriver.common.keys import Keys\n",
    "from selenium.webdriver.support.ui import WebDriverWait\n",
    "from selenium.webdriver.support import expected_conditions as EC\n",
    "import time\n",
    "from webdriver_manager.chrome import ChromeDriverManager\n",
    "\n",
    "driver = webdriver.Chrome(ChromeDriverManager().install())\n",
    "driver.maximize_window()\n",
    "\n",
    "presence = EC.presence_of_element_located\n",
    "visible = EC.visibility_of_element_located\n",
    "wait = WebDriverWait(driver, 5)\n",
    "\n",
    "# Navigate to url with video being appended to search_query\n",
    "driver.get('https://www.youtube.com/results?search_query={}'.format(str('Apex Legends')))\n",
    "\n",
    "button = driver.find_element(By.XPATH,\"//*[@id='content']/div[2]/div[6]/div[1]/ytd-button-renderer[1]/yt-button-shape/button/yt-touch-feedback-shape/div/div[2]\")\n",
    "button.click()\n",
    "\n",
    "# play the video\n",
    "\n",
    "driver.find_element(By.XPATH, \"//*[@id='watch-card-subtitle']\").click()\n",
    "wait.until(visible((By.XPATH, \"//*[@id='tabsContent']/tp-yt-paper-tab[3]/div\")))\n",
    "driver.find_element(By.XPATH, \"//*[@id='tabsContent']/tp-yt-paper-tab[3]/div\").click()\n",
    "\n",
    "time.sleep(5)\n",
    "\n",
    "height = driver.execute_script('''var body = document.body,\n",
    "                                    html = document.documentElement;\n",
    "                                    var height = Math.max( body.scrollHeight, body.offsetHeight, \n",
    "                                    html.clientHeight, html.scrollHeight, html.offsetHeight );\n",
    "                                    return height;''')\n",
    "\n",
    "driver.execute_script(\"window.scrollTo(0, \"+str(height)+\");\")\n",
    "\n",
    "# Extraire le nombre de spectateurs à partir de l'élément HTML approprié\n",
    "res=[]\n",
    "\n",
    "time.sleep(5)\n",
    "\n",
    "titre= driver.find_elements(By.ID,\"video-title\")\n",
    "nb_vue= driver.find_elements(By.XPATH,\"//*[@id='metadata-line']/span[1]\")\n",
    "date= driver.find_elements(By.XPATH,\"//*[@id='metadata-line']/span[2]\")\n",
    "\n",
    "# Récupération des données des vidéos Youtube\n",
    "\n",
    "titres= [titre[i].text for i in range(len(titre))]\n",
    "nb_vues= [nb_vue[i].text for i in range(len(nb_vue))]\n",
    "dates= [date[i].text for i in range(len(date))]\n",
    "\n",
    "res= pd.DataFrame(list(zip(titres, nb_vues, dates)), columns=[\"Titre de la vidéo\", \"Nombre de vues\", \"Date de publication\"]) #Dataframe final\n",
    "\n",
    "print(res)"
   ]
  }
 ],
 "metadata": {
  "kernelspec": {
   "display_name": "Python 3",
   "language": "python",
   "name": "python3"
  },
  "language_info": {
   "codemirror_mode": {
    "name": "ipython",
    "version": 3
   },
   "file_extension": ".py",
   "mimetype": "text/x-python",
   "name": "python",
   "nbconvert_exporter": "python",
   "pygments_lexer": "ipython3",
   "version": "3.10.7"
  },
  "orig_nbformat": 4,
  "vscode": {
   "interpreter": {
    "hash": "0284b1e34e494781da6537966084e394639bb3ab30a3ea3d0b2b75175f82c078"
   }
  }
 },
 "nbformat": 4,
 "nbformat_minor": 2
}
