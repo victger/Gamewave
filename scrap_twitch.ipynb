{
 "cells": [
  {
   "cell_type": "code",
   "execution_count": 4,
   "metadata": {},
   "outputs": [
    {
     "ename": "InvalidSelectorException",
     "evalue": "Message: invalid selector: An invalid or illegal selector was specified\n  (Session info: chrome=109.0.5414.119)\nStacktrace:\nBacktrace:\n\t(No symbol) [0x011A6643]\n\t(No symbol) [0x0113BE21]\n\t(No symbol) [0x0103DA9D]\n\t(No symbol) [0x010409E4]\n\t(No symbol) [0x010408AD]\n\t(No symbol) [0x01040B30]\n\t(No symbol) [0x01070FAC]\n\t(No symbol) [0x0107147B]\n\t(No symbol) [0x010A8DC2]\n\t(No symbol) [0x0108FDC4]\n\t(No symbol) [0x010A6B09]\n\t(No symbol) [0x0108FB76]\n\t(No symbol) [0x010649C1]\n\t(No symbol) [0x01065E5D]\n\tGetHandleVerifier [0x0141A142+2497106]\n\tGetHandleVerifier [0x014485D3+2686691]\n\tGetHandleVerifier [0x0144BB9C+2700460]\n\tGetHandleVerifier [0x01253B10+635936]\n\t(No symbol) [0x01144A1F]\n\t(No symbol) [0x0114A418]\n\t(No symbol) [0x0114A505]\n\t(No symbol) [0x0115508B]\n\tBaseThreadInitThunk [0x75AF6BD9+25]\n\tRtlGetFullPathName_UEx [0x76FC8FD2+1218]\n\tRtlGetFullPathName_UEx [0x76FC8F9D+1165]\n",
     "output_type": "error",
     "traceback": [
      "\u001b[1;31m---------------------------------------------------------------------------\u001b[0m",
      "\u001b[1;31mInvalidSelectorException\u001b[0m                  Traceback (most recent call last)",
      "Cell \u001b[1;32mIn[4], line 12\u001b[0m\n\u001b[0;32m      9\u001b[0m driver\u001b[39m.\u001b[39mget(\u001b[39m\"\u001b[39m\u001b[39mhttps://www.twitch.tv/directory?sort=VIEWER_COUNT\u001b[39m\u001b[39m\"\u001b[39m)\n\u001b[0;32m     11\u001b[0m \u001b[39m# Extraire le nombre de spectateurs à partir de l'élément HTML approprié\u001b[39;00m\n\u001b[1;32m---> 12\u001b[0m viewer_count_elements \u001b[39m=\u001b[39m driver\u001b[39m.\u001b[39;49mfind_element(By\u001b[39m.\u001b[39;49mCLASS_NAME,\u001b[39m\"\u001b[39;49m\u001b[39m.tw-stat__value\u001b[39;49m\u001b[39m\"\u001b[39;49m)\n\u001b[0;32m     13\u001b[0m viewer_count \u001b[39m=\u001b[39m [\u001b[39mint\u001b[39m(elem\u001b[39m.\u001b[39mtext\u001b[39m.\u001b[39mreplace(\u001b[39m\"\u001b[39m\u001b[39m,\u001b[39m\u001b[39m\"\u001b[39m,\u001b[39m\"\u001b[39m\u001b[39m\"\u001b[39m)) \u001b[39mfor\u001b[39;00m elem \u001b[39min\u001b[39;00m viewer_count_elements]\n\u001b[0;32m     14\u001b[0m \u001b[39mprint\u001b[39m(viewer_count)\n",
      "File \u001b[1;32mc:\\Users\\vgvic\\AppData\\Local\\Programs\\Python\\Python311\\Lib\\site-packages\\selenium\\webdriver\\remote\\webdriver.py:830\u001b[0m, in \u001b[0;36mWebDriver.find_element\u001b[1;34m(self, by, value)\u001b[0m\n\u001b[0;32m    827\u001b[0m     by \u001b[39m=\u001b[39m By\u001b[39m.\u001b[39mCSS_SELECTOR\n\u001b[0;32m    828\u001b[0m     value \u001b[39m=\u001b[39m \u001b[39mf\u001b[39m\u001b[39m'\u001b[39m\u001b[39m[name=\u001b[39m\u001b[39m\"\u001b[39m\u001b[39m{\u001b[39;00mvalue\u001b[39m}\u001b[39;00m\u001b[39m\"\u001b[39m\u001b[39m]\u001b[39m\u001b[39m'\u001b[39m\n\u001b[1;32m--> 830\u001b[0m \u001b[39mreturn\u001b[39;00m \u001b[39mself\u001b[39;49m\u001b[39m.\u001b[39;49mexecute(Command\u001b[39m.\u001b[39;49mFIND_ELEMENT, {\u001b[39m\"\u001b[39;49m\u001b[39musing\u001b[39;49m\u001b[39m\"\u001b[39;49m: by, \u001b[39m\"\u001b[39;49m\u001b[39mvalue\u001b[39;49m\u001b[39m\"\u001b[39;49m: value})[\u001b[39m\"\u001b[39m\u001b[39mvalue\u001b[39m\u001b[39m\"\u001b[39m]\n",
      "File \u001b[1;32mc:\\Users\\vgvic\\AppData\\Local\\Programs\\Python\\Python311\\Lib\\site-packages\\selenium\\webdriver\\remote\\webdriver.py:440\u001b[0m, in \u001b[0;36mWebDriver.execute\u001b[1;34m(self, driver_command, params)\u001b[0m\n\u001b[0;32m    438\u001b[0m response \u001b[39m=\u001b[39m \u001b[39mself\u001b[39m\u001b[39m.\u001b[39mcommand_executor\u001b[39m.\u001b[39mexecute(driver_command, params)\n\u001b[0;32m    439\u001b[0m \u001b[39mif\u001b[39;00m response:\n\u001b[1;32m--> 440\u001b[0m     \u001b[39mself\u001b[39;49m\u001b[39m.\u001b[39;49merror_handler\u001b[39m.\u001b[39;49mcheck_response(response)\n\u001b[0;32m    441\u001b[0m     response[\u001b[39m\"\u001b[39m\u001b[39mvalue\u001b[39m\u001b[39m\"\u001b[39m] \u001b[39m=\u001b[39m \u001b[39mself\u001b[39m\u001b[39m.\u001b[39m_unwrap_value(response\u001b[39m.\u001b[39mget(\u001b[39m\"\u001b[39m\u001b[39mvalue\u001b[39m\u001b[39m\"\u001b[39m, \u001b[39mNone\u001b[39;00m))\n\u001b[0;32m    442\u001b[0m     \u001b[39mreturn\u001b[39;00m response\n",
      "File \u001b[1;32mc:\\Users\\vgvic\\AppData\\Local\\Programs\\Python\\Python311\\Lib\\site-packages\\selenium\\webdriver\\remote\\errorhandler.py:245\u001b[0m, in \u001b[0;36mErrorHandler.check_response\u001b[1;34m(self, response)\u001b[0m\n\u001b[0;32m    243\u001b[0m         alert_text \u001b[39m=\u001b[39m value[\u001b[39m\"\u001b[39m\u001b[39malert\u001b[39m\u001b[39m\"\u001b[39m]\u001b[39m.\u001b[39mget(\u001b[39m\"\u001b[39m\u001b[39mtext\u001b[39m\u001b[39m\"\u001b[39m)\n\u001b[0;32m    244\u001b[0m     \u001b[39mraise\u001b[39;00m exception_class(message, screen, stacktrace, alert_text)  \u001b[39m# type: ignore[call-arg]  # mypy is not smart enough here\u001b[39;00m\n\u001b[1;32m--> 245\u001b[0m \u001b[39mraise\u001b[39;00m exception_class(message, screen, stacktrace)\n",
      "\u001b[1;31mInvalidSelectorException\u001b[0m: Message: invalid selector: An invalid or illegal selector was specified\n  (Session info: chrome=109.0.5414.119)\nStacktrace:\nBacktrace:\n\t(No symbol) [0x011A6643]\n\t(No symbol) [0x0113BE21]\n\t(No symbol) [0x0103DA9D]\n\t(No symbol) [0x010409E4]\n\t(No symbol) [0x010408AD]\n\t(No symbol) [0x01040B30]\n\t(No symbol) [0x01070FAC]\n\t(No symbol) [0x0107147B]\n\t(No symbol) [0x010A8DC2]\n\t(No symbol) [0x0108FDC4]\n\t(No symbol) [0x010A6B09]\n\t(No symbol) [0x0108FB76]\n\t(No symbol) [0x010649C1]\n\t(No symbol) [0x01065E5D]\n\tGetHandleVerifier [0x0141A142+2497106]\n\tGetHandleVerifier [0x014485D3+2686691]\n\tGetHandleVerifier [0x0144BB9C+2700460]\n\tGetHandleVerifier [0x01253B10+635936]\n\t(No symbol) [0x01144A1F]\n\t(No symbol) [0x0114A418]\n\t(No symbol) [0x0114A505]\n\t(No symbol) [0x0115508B]\n\tBaseThreadInitThunk [0x75AF6BD9+25]\n\tRtlGetFullPathName_UEx [0x76FC8FD2+1218]\n\tRtlGetFullPathName_UEx [0x76FC8F9D+1165]\n"
     ]
    }
   ],
   "source": [
    "from selenium import webdriver\n",
    "from selenium.webdriver.common.keys import Keys\n",
    "from selenium.webdriver.common.by import By\n",
    "\n",
    "# Initialiser le navigateur\n",
    "driver = webdriver.Chrome()\n",
    "\n",
    "# Naviguer vers la page cible\n",
    "driver.get(\"https://www.twitch.tv/directory?sort=VIEWER_COUNT\")\n",
    "\n",
    "# Extraire le nombre de spectateurs à partir de l'élément HTML approprié\n",
    "viewer_count_elements = driver.find_element(By.CLASS_NAME,\".tw-stat__value\")\n",
    "viewer_count = [int(elem.text.replace(\",\",\"\")) for elem in viewer_count_elements]\n",
    "print(viewer_count)\n",
    "\n",
    "# Fermer le navigateur\n",
    "driver.quit()"
   ]
  },
  {
   "cell_type": "code",
   "execution_count": 10,
   "metadata": {},
   "outputs": [
    {
     "ename": "AttributeError",
     "evalue": "'NoneType' object has no attribute 'text'",
     "output_type": "error",
     "traceback": [
      "\u001b[1;31m---------------------------------------------------------------------------\u001b[0m",
      "\u001b[1;31mAttributeError\u001b[0m                            Traceback (most recent call last)",
      "Cell \u001b[1;32mIn[10], line 14\u001b[0m\n\u001b[0;32m     11\u001b[0m \u001b[39m# Extraire le nombre de spectateurs à partir de l'élément HTML approprié\u001b[39;00m\n\u001b[0;32m     12\u001b[0m spec \u001b[39m=\u001b[39m driver\u001b[39m.\u001b[39mfind_element(By\u001b[39m.\u001b[39mCSS_SELECTOR,\u001b[39m\"\u001b[39m\u001b[39mh1\u001b[39m\u001b[39m\"\u001b[39m)\n\u001b[1;32m---> 14\u001b[0m \u001b[39mprint\u001b[39m(spec\u001b[39m.\u001b[39;49mtext)\n\u001b[0;32m     16\u001b[0m driver\u001b[39m.\u001b[39mquit()\n",
      "\u001b[1;31mAttributeError\u001b[0m: 'NoneType' object has no attribute 'text'"
     ]
    }
   ],
   "source": [
    "from selenium import webdriver\n",
    "from selenium.webdriver.common.keys import Keys\n",
    "from selenium.webdriver.common.by import By\n",
    "\n",
    "# Initialiser le navigateur\n",
    "driver = webdriver.Chrome()\n",
    "\n",
    "# Naviguer vers la page cible\n",
    "driver.get(\"https://www.twitch.tv/directory?sort=VIEWER_COUNT\")\n",
    "\n",
    "# Extraire le nombre de spectateurs à partir de l'élément HTML approprié\n",
    "spec = driver.find_element(By.CSS_SELECTOR,\"h1\")\n",
    "\n",
    "print(spec.text)\n",
    "\n",
    "driver.quit()"
   ]
  }
 ],
 "metadata": {
  "kernelspec": {
   "display_name": "Python 3",
   "language": "python",
   "name": "python3"
  },
  "language_info": {
   "codemirror_mode": {
    "name": "ipython",
    "version": 3
   },
   "file_extension": ".py",
   "mimetype": "text/x-python",
   "name": "python",
   "nbconvert_exporter": "python",
   "pygments_lexer": "ipython3",
   "version": "3.11.1 (tags/v3.11.1:a7a450f, Dec  6 2022, 19:58:39) [MSC v.1934 64 bit (AMD64)]"
  },
  "orig_nbformat": 4,
  "vscode": {
   "interpreter": {
    "hash": "a63150de987f899cebd43a6732a505936996f6382751683e19db883cb60d7b25"
   }
  }
 },
 "nbformat": 4,
 "nbformat_minor": 2
}
