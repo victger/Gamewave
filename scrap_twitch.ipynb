{
 "cells": [
  {
   "attachments": {},
   "cell_type": "markdown",
   "metadata": {},
   "source": [
    "ATTENTION ! nb_spec explore tout mais après on réduit la taille à 20, à optimiser !\n",
    "Certains des éléments ne sont pas des jeux !"
   ]
  },
  {
   "cell_type": "code",
   "execution_count": 2,
   "metadata": {},
   "outputs": [
    {
     "name": "stderr",
     "output_type": "stream",
     "text": [
      "C:\\Users\\vgvic\\AppData\\Local\\Temp\\ipykernel_7848\\640951705.py:8: DeprecationWarning: executable_path has been deprecated, please pass in a Service object\n",
      "  driver = webdriver.Chrome('C:/Users/vgvic/Downloads/chromedriver_win32/chromedriver.exe')\n"
     ]
    },
    {
     "name": "stdout",
     "output_type": "stream",
     "text": [
      "                                 Jeu Nombre de spectateurs\n",
      "0                         Discussion   439,6 k spectateurs\n",
      "1   Counter-Strike: Global Offensive   187,7 k spectateurs\n",
      "2                  League of Legends     168 k spectateurs\n",
      "3                           VALORANT   122,6 k spectateurs\n",
      "4                 Grand Theft Auto V   108,6 k spectateurs\n",
      "5                 Escape from Tarkov    71,7 k spectateurs\n",
      "6                           Fortnite    53,7 k spectateurs\n",
      "7                             Dota 2    50,6 k spectateurs\n",
      "8                  World of Warcraft    49,5 k spectateurs\n",
      "9              Call of Duty: Warzone    46,8 k spectateurs\n",
      "10                           FIFA 23    45,5 k spectateurs\n",
      "11                         Minecraft    44,3 k spectateurs\n",
      "12                      Apex Legends    37,3 k spectateurs\n",
      "13                 Teamfight Tactics    37,2 k spectateurs\n",
      "14                       Hearthstone    30,1 k spectateurs\n",
      "15                  Dead by Daylight    28,9 k spectateurs\n",
      "16                    Virtual Casino    27,8 k spectateurs\n",
      "17                          Lost Ark    24,4 k spectateurs\n",
      "18                        Dead Space    24,3 k spectateurs\n",
      "19                    Genshin Impact    23,2 k spectateurs\n"
     ]
    }
   ],
   "source": [
    "from selenium import webdriver\n",
    "from selenium.webdriver.common.keys import Keys\n",
    "from selenium.webdriver.common.by import By\n",
    "import pandas as pd\n",
    "import time\n",
    "\n",
    "# Initialiser le navigateur\n",
    "driver = webdriver.Chrome('C:/Users/vgvic/Downloads/chromedriver_win32/chromedriver.exe')\n",
    "\n",
    "# Naviguer vers Twitch\n",
    "driver.get(\"https://www.twitch.tv/directory?sort=VIEWER_COUNT\")\n",
    "\n",
    "time.sleep(5)\n",
    "\n",
    "# Extraire le nombre de spectateurs à partir de l'élément HTML approprié\n",
    "nb_spec = driver.find_elements(By.XPATH,\"//p[@class='CoreText-sc-1txzju1-0 jiepBC']\")\n",
    "jeu= driver.find_elements(By.CSS_SELECTOR,\"h2\")\n",
    "\n",
    "#for i in range(len(spec)): #Si l'on veut prendre en compte tous les jeux affiché dans Chrome\n",
    "nb_specs = [nb_spec[i].text for i in range(20)]\n",
    "jeux= [jeu[i].text for i in range(20)]\n",
    "\n",
    "data_twitch= pd.DataFrame(list(zip(jeux, nb_specs)), columns=[\"Jeu\", \"Nombre de spectateurs\"]) #Dataframe final\n",
    "print(data_twitch)\n",
    "\n",
    "driver.quit()"
   ]
  },
  {
   "cell_type": "code",
   "execution_count": 3,
   "metadata": {},
   "outputs": [
    {
     "name": "stderr",
     "output_type": "stream",
     "text": [
      "C:\\Users\\vgvic\\AppData\\Local\\Temp\\ipykernel_7848\\2016066326.py:8: DeprecationWarning: executable_path has been deprecated, please pass in a Service object\n",
      "  driver = webdriver.Chrome('C:/Users/vgvic/Downloads/chromedriver_win32/chromedriver.exe')\n"
     ]
    }
   ],
   "source": [
    "from selenium import webdriver\n",
    "from selenium.webdriver.common.keys import Keys\n",
    "from selenium.webdriver.common.by import By\n",
    "import pandas as pd\n",
    "import time\n",
    "\n",
    "# Initialiser le navigateur\n",
    "driver = webdriver.Chrome('C:/Users/vgvic/Downloads/chromedriver_win32/chromedriver.exe')\n",
    "\n",
    "# Naviguer vers Twitch\n",
    "driver.get(\"https://www.twitch.tv/directory?sort=VIEWER_COUNT\")\n",
    "\n",
    "time.sleep(5)\n",
    "\n",
    "card= []\n",
    "\n",
    "for i in range(2,22):\n",
    "    card+= driver.find_elements(By.XPATH,\"/html/body/div[1]/div/div[2]/div/main/div[1]/div[3]/div/div/div/div/section/div[4]/div/div[1]/div[\"+str(i)+\"]\")"
   ]
  },
  {
   "cell_type": "code",
   "execution_count": 4,
   "metadata": {},
   "outputs": [
    {
     "data": {
      "text/plain": [
       "['Counter-Strike: Global Offensive',\n",
       " '187,5 k spectateurs',\n",
       " 'FPS',\n",
       " 'Jeux de tir']"
      ]
     },
     "execution_count": 4,
     "metadata": {},
     "output_type": "execute_result"
    }
   ],
   "source": [
    "test= card[1].text.split('\\n')\n",
    "test"
   ]
  },
  {
   "cell_type": "code",
   "execution_count": 6,
   "metadata": {},
   "outputs": [
    {
     "data": {
      "text/plain": [
       "'FPS Jeux de tir'"
      ]
     },
     "execution_count": 6,
     "metadata": {},
     "output_type": "execute_result"
    }
   ],
   "source": []
  }
 ],
 "metadata": {
  "kernelspec": {
   "display_name": "Python 3",
   "language": "python",
   "name": "python3"
  },
  "language_info": {
   "codemirror_mode": {
    "name": "ipython",
    "version": 3
   },
   "file_extension": ".py",
   "mimetype": "text/x-python",
   "name": "python",
   "nbconvert_exporter": "python",
   "pygments_lexer": "ipython3",
   "version": "3.11.1"
  },
  "orig_nbformat": 4,
  "vscode": {
   "interpreter": {
    "hash": "a63150de987f899cebd43a6732a505936996f6382751683e19db883cb60d7b25"
   }
  }
 },
 "nbformat": 4,
 "nbformat_minor": 2
}
