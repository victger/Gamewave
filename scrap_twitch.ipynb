{
 "cells": [
  {
   "attachments": {},
   "cell_type": "markdown",
   "metadata": {},
   "source": [
    "ATTENTION ! nb_spec explore tout mais après on réduit la taille à 20, à optimiser !\n",
    "Certains des éléments ne sont pas des jeux !"
   ]
  },
  {
   "cell_type": "code",
   "execution_count": 31,
   "metadata": {},
   "outputs": [
    {
     "name": "stderr",
     "output_type": "stream",
     "text": [
      "C:\\Users\\vgvic\\AppData\\Local\\Temp\\ipykernel_7948\\2675062245.py:7: DeprecationWarning: executable_path has been deprecated, please pass in a Service object\n",
      "  driver = webdriver.Chrome('C:/Users/vgvic/Downloads/chromedriver_win32/chromedriver.exe')\n"
     ]
    },
    {
     "name": "stdout",
     "output_type": "stream",
     "text": [
      "                                 Jeu Nombre de spectateurs\n",
      "0                         Discussion   612,3 k spectateurs\n",
      "1                  League of Legends   287,2 k spectateurs\n",
      "2   Counter-Strike: Global Offensive   234,2 k spectateurs\n",
      "3                          Minecraft   167,4 k spectateurs\n",
      "4                 Grand Theft Auto V   142,6 k spectateurs\n",
      "5                           VALORANT   130,9 k spectateurs\n",
      "6                 Escape from Tarkov   101,3 k spectateurs\n",
      "7                             Dota 2    90,2 k spectateurs\n",
      "8                            FIFA 23    82,5 k spectateurs\n",
      "9                           Fortnite      72 k spectateurs\n",
      "10                 World of Warcraft    66,3 k spectateurs\n",
      "11                    Virtual Casino    63,9 k spectateurs\n",
      "12                      Apex Legends    63,7 k spectateurs\n",
      "13             Call of Duty: Warzone    55,8 k spectateurs\n",
      "14                         Forspoken    44,7 k spectateurs\n",
      "15                             Chess    43,8 k spectateurs\n",
      "16          Final Fantasy XIV Online    41,7 k spectateurs\n",
      "17                  Dead by Daylight    31,8 k spectateurs\n",
      "18                    Genshin Impact    31,3 k spectateurs\n",
      "19                       Hearthstone    29,3 k spectateurs\n"
     ]
    }
   ],
   "source": [
    "from selenium import webdriver\n",
    "from selenium.webdriver.common.keys import Keys\n",
    "from selenium.webdriver.common.by import By\n",
    "import pandas as pd\n",
    "\n",
    "# Initialiser le navigateur\n",
    "driver = webdriver.Chrome('C:/Users/vgvic/Downloads/chromedriver_win32/chromedriver.exe')\n",
    "\n",
    "# Naviguer vers Twitch\n",
    "driver.get(\"https://www.twitch.tv/directory?sort=VIEWER_COUNT\")\n",
    "\n",
    "# Extraire le nombre de spectateurs à partir de l'élément HTML approprié\n",
    "nb_spec = driver.find_elements(By.XPATH,\"//p[@class='CoreText-sc-1txzju1-0 jiepBC']\")\n",
    "jeu= driver.find_elements(By.CSS_SELECTOR,\"h2\")\n",
    "\n",
    "#for i in range(len(spec)): #Si l'on veut prendre en compte tous les jeux affiché dans Chrome\n",
    "pop= [nb_spec[i].text for i in range(20)]\n",
    "jeux= [jeu[i].text for i in range(20)]\n",
    "\n",
    "res= pd.DataFrame(list(zip(jeux, pop)), columns=[\"Jeu\", \"Nombre de spectateurs\"]) #Dataframe final\n",
    "print(res)\n",
    "\n",
    "driver.quit()"
   ]
  }
 ],
 "metadata": {
  "kernelspec": {
   "display_name": "Python 3",
   "language": "python",
   "name": "python3"
  },
  "language_info": {
   "codemirror_mode": {
    "name": "ipython",
    "version": 3
   },
   "file_extension": ".py",
   "mimetype": "text/x-python",
   "name": "python",
   "nbconvert_exporter": "python",
   "pygments_lexer": "ipython3",
   "version": "3.11.1 (tags/v3.11.1:a7a450f, Dec  6 2022, 19:58:39) [MSC v.1934 64 bit (AMD64)]"
  },
  "orig_nbformat": 4,
  "vscode": {
   "interpreter": {
    "hash": "a63150de987f899cebd43a6732a505936996f6382751683e19db883cb60d7b25"
   }
  }
 },
 "nbformat": 4,
 "nbformat_minor": 2
}
