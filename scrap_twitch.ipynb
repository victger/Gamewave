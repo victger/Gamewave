{
 "cells": [
  {
   "attachments": {},
   "cell_type": "markdown",
   "metadata": {},
   "source": [
    "ATTENTION ! nb_spec explore tout mais après on réduit la taille à 20, à optimiser !\n",
    "Certains des éléments ne sont pas des jeux !"
   ]
  },
  {
   "cell_type": "code",
   "execution_count": 1,
   "metadata": {},
   "outputs": [
    {
     "name": "stderr",
     "output_type": "stream",
     "text": [
      "C:\\Users\\vgvic\\AppData\\Local\\Temp\\ipykernel_15284\\1739197371.py:7: DeprecationWarning: executable_path has been deprecated, please pass in a Service object\n",
      "  driver = webdriver.Chrome('C:/Users/vgvic/Downloads/chromedriver_win32/chromedriver.exe')\n"
     ]
    },
    {
     "name": "stdout",
     "output_type": "stream",
     "text": [
      "                                 Jeu Nombre de spectateurs\n",
      "0                         Discussion   691,7 k spectateurs\n",
      "1                 Grand Theft Auto V     262 k spectateurs\n",
      "2                  League of Legends   217,7 k spectateurs\n",
      "3                           VALORANT   116,3 k spectateurs\n",
      "4                          Minecraft    94,2 k spectateurs\n",
      "5              Call of Duty: Warzone    89,6 k spectateurs\n",
      "6                 Escape from Tarkov    86,1 k spectateurs\n",
      "7                           Fortnite    68,2 k spectateurs\n",
      "8   Counter-Strike: Global Offensive    63,3 k spectateurs\n",
      "9                  World of Warcraft    62,9 k spectateurs\n",
      "10                           FIFA 23    60,6 k spectateurs\n",
      "11                             Sport    58,1 k spectateurs\n",
      "12                             Chess      47 k spectateurs\n",
      "13                      Apex Legends    45,7 k spectateurs\n",
      "14                            Dota 2    43,4 k spectateurs\n",
      "15                           Musique    35,9 k spectateurs\n",
      "16                  Dead by Daylight    31,3 k spectateurs\n",
      "17                          PlateUp!    31,3 k spectateurs\n",
      "18                             Slots    30,8 k spectateurs\n",
      "19                    Virtual Casino    30,2 k spectateurs\n"
     ]
    }
   ],
   "source": [
    "from selenium import webdriver\n",
    "from selenium.webdriver.common.keys import Keys\n",
    "from selenium.webdriver.common.by import By\n",
    "import pandas as pd\n",
    "\n",
    "# Initialiser le navigateur\n",
    "driver = webdriver.Chrome('C:/Users/vgvic/Downloads/chromedriver_win32/chromedriver.exe')\n",
    "\n",
    "# Naviguer vers Twitch\n",
    "driver.get(\"https://www.twitch.tv/directory?sort=VIEWER_COUNT\")\n",
    "\n",
    "# Extraire le nombre de spectateurs à partir de l'élément HTML approprié\n",
    "nb_spec = driver.find_elements(By.XPATH,\"//p[@class='CoreText-sc-1txzju1-0 jiepBC']\")\n",
    "jeu= driver.find_elements(By.CSS_SELECTOR,\"h2\")\n",
    "\n",
    "#for i in range(len(spec)): #Si l'on veut prendre en compte tous les jeux affiché dans Chrome\n",
    "nb_specs = [nb_spec[i].text for i in range(20)]\n",
    "jeux= [jeu[i].text for i in range(20)]\n",
    "\n",
    "data_twitch= pd.DataFrame(list(zip(jeux, nb_specs)), columns=[\"Jeu\", \"Nombre de spectateurs\"]) #Dataframe final\n",
    "print(data_twitch)\n",
    "\n",
    "driver.quit()"
   ]
  }
 ],
 "metadata": {
  "kernelspec": {
   "display_name": "Python 3",
   "language": "python",
   "name": "python3"
  },
  "language_info": {
   "codemirror_mode": {
    "name": "ipython",
    "version": 3
   },
   "file_extension": ".py",
   "mimetype": "text/x-python",
   "name": "python",
   "nbconvert_exporter": "python",
   "pygments_lexer": "ipython3",
   "version": "3.10.7"
  },
  "orig_nbformat": 4,
  "vscode": {
   "interpreter": {
    "hash": "0284b1e34e494781da6537966084e394639bb3ab30a3ea3d0b2b75175f82c078"
   }
  }
 },
 "nbformat": 4,
 "nbformat_minor": 2
}
