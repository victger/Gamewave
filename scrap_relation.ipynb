{
 "cells": [
  {
   "cell_type": "code",
   "execution_count": 1,
   "metadata": {},
   "outputs": [
    {
     "name": "stderr",
     "output_type": "stream",
     "text": [
      "C:\\Users\\vgvic\\AppData\\Local\\Temp\\ipykernel_740\\3877119301.py:8: DeprecationWarning: executable_path has been deprecated, please pass in a Service object\n",
      "  driver = webdriver.Chrome('C:/Users/vgvic/Downloads/chromedriver_win32/chromedriver.exe')\n"
     ]
    }
   ],
   "source": [
    "from selenium import webdriver\n",
    "from selenium.webdriver.common.keys import Keys\n",
    "from selenium.webdriver.common.by import By\n",
    "import pandas as pd\n",
    "import time\n",
    "\n",
    "# Initialiser le navigateur\n",
    "driver = webdriver.Chrome('C:/Users/vgvic/Downloads/chromedriver_win32/chromedriver.exe')\n",
    "\n",
    "# Naviguer vers Twitch\n",
    "driver.get(\"https://www.twitch.tv/directory?sort=VIEWER_COUNT\")\n",
    "\n",
    "time.sleep(5)\n",
    "\n",
    "card= []\n",
    "\n",
    "for i in range(2,22):\n",
    "    card+= driver.find_elements(By.XPATH,\"/html/body/div[1]/div/div[2]/div/main/div[1]/div[3]/div/div/div/div/section/div[4]/div/div[1]/div[\"+str(i)+\"]\")\n",
    "\n",
    "features= [card[i].text.split(\"\\n\") for i in range(len(card))]\n",
    "\n",
    "jeu= [features[i][0] if features[i][0]!=\"NOUVEAU\" else features[i][1] for i in range(len(card))]\n",
    "nb_spec= [features[i][1] if features[i][0]!=\"NOUVEAU\" else features[i][2] for i in range(len(card))]\n",
    "tags= [features[i][2:] if features[i][0]!=\"NOUVEAU\" else features[i][3:] for i in range(len(card))]\n",
    "\n",
    "data_twitch= pd.DataFrame(list(zip(jeu, nb_spec, tags)), columns=[\"Jeu\", \"Nombre de spectateurs\", \"Tags\"]) #Dataframe final\n",
    "\n",
    "driver.quit()"
   ]
  },
  {
   "cell_type": "code",
   "execution_count": 3,
   "metadata": {},
   "outputs": [
    {
     "name": "stderr",
     "output_type": "stream",
     "text": [
      "C:\\Users\\vgvic\\AppData\\Local\\Temp\\ipykernel_740\\4174639712.py:10: DeprecationWarning: executable_path has been deprecated, please pass in a Service object\n",
      "  driver = webdriver.Chrome(ChromeDriverManager().install())\n"
     ]
    },
    {
     "ename": "NoSuchElementException",
     "evalue": "Message: no such element: Unable to locate element: {\"method\":\"xpath\",\"selector\":\"//*[@id='watch-card-subtitle']\"}\n  (Session info: chrome=109.0.5414.122)\nStacktrace:\nBacktrace:\n\t(No symbol) [0x00306643]\n\t(No symbol) [0x0029BE21]\n\t(No symbol) [0x0019DA9D]\n\t(No symbol) [0x001D1342]\n\t(No symbol) [0x001D147B]\n\t(No symbol) [0x00208DC2]\n\t(No symbol) [0x001EFDC4]\n\t(No symbol) [0x00206B09]\n\t(No symbol) [0x001EFB76]\n\t(No symbol) [0x001C49C1]\n\t(No symbol) [0x001C5E5D]\n\tGetHandleVerifier [0x0057A142+2497106]\n\tGetHandleVerifier [0x005A85D3+2686691]\n\tGetHandleVerifier [0x005ABB9C+2700460]\n\tGetHandleVerifier [0x003B3B10+635936]\n\t(No symbol) [0x002A4A1F]\n\t(No symbol) [0x002AA418]\n\t(No symbol) [0x002AA505]\n\t(No symbol) [0x002B508B]\n\tBaseThreadInitThunk [0x75FB7D69+25]\n\tRtlInitializeExceptionChain [0x772ABB9B+107]\n\tRtlClearBits [0x772ABB1F+191]\n\t(No symbol) [0x00000000]\n",
     "output_type": "error",
     "traceback": [
      "\u001b[1;31m---------------------------------------------------------------------------\u001b[0m",
      "\u001b[1;31mNoSuchElementException\u001b[0m                    Traceback (most recent call last)",
      "Cell \u001b[1;32mIn[3], line 30\u001b[0m\n\u001b[0;32m     26\u001b[0m button\u001b[39m.\u001b[39mclick()\n\u001b[0;32m     28\u001b[0m \u001b[39m# play the video\u001b[39;00m\n\u001b[1;32m---> 30\u001b[0m driver\u001b[39m.\u001b[39;49mfind_element(By\u001b[39m.\u001b[39;49mXPATH, \u001b[39m\"\u001b[39;49m\u001b[39m//*[@id=\u001b[39;49m\u001b[39m'\u001b[39;49m\u001b[39mwatch-card-subtitle\u001b[39;49m\u001b[39m'\u001b[39;49m\u001b[39m]\u001b[39;49m\u001b[39m\"\u001b[39;49m)\u001b[39m.\u001b[39mclick()\n\u001b[0;32m     31\u001b[0m wait\u001b[39m.\u001b[39muntil(visible((By\u001b[39m.\u001b[39mXPATH, \u001b[39m\"\u001b[39m\u001b[39m//*[@id=\u001b[39m\u001b[39m'\u001b[39m\u001b[39mtabsContent\u001b[39m\u001b[39m'\u001b[39m\u001b[39m]/tp-yt-paper-tab[3]/div\u001b[39m\u001b[39m\"\u001b[39m)))\n\u001b[0;32m     32\u001b[0m driver\u001b[39m.\u001b[39mfind_element(By\u001b[39m.\u001b[39mXPATH, \u001b[39m\"\u001b[39m\u001b[39m//*[@id=\u001b[39m\u001b[39m'\u001b[39m\u001b[39mtabsContent\u001b[39m\u001b[39m'\u001b[39m\u001b[39m]/tp-yt-paper-tab[3]/div\u001b[39m\u001b[39m\"\u001b[39m)\u001b[39m.\u001b[39mclick()\n",
      "File \u001b[1;32mc:\\Users\\vgvic\\AppData\\Local\\Programs\\Python\\Python310\\lib\\site-packages\\selenium\\webdriver\\remote\\webdriver.py:830\u001b[0m, in \u001b[0;36mWebDriver.find_element\u001b[1;34m(self, by, value)\u001b[0m\n\u001b[0;32m    827\u001b[0m     by \u001b[39m=\u001b[39m By\u001b[39m.\u001b[39mCSS_SELECTOR\n\u001b[0;32m    828\u001b[0m     value \u001b[39m=\u001b[39m \u001b[39mf\u001b[39m\u001b[39m'\u001b[39m\u001b[39m[name=\u001b[39m\u001b[39m\"\u001b[39m\u001b[39m{\u001b[39;00mvalue\u001b[39m}\u001b[39;00m\u001b[39m\"\u001b[39m\u001b[39m]\u001b[39m\u001b[39m'\u001b[39m\n\u001b[1;32m--> 830\u001b[0m \u001b[39mreturn\u001b[39;00m \u001b[39mself\u001b[39;49m\u001b[39m.\u001b[39;49mexecute(Command\u001b[39m.\u001b[39;49mFIND_ELEMENT, {\u001b[39m\"\u001b[39;49m\u001b[39musing\u001b[39;49m\u001b[39m\"\u001b[39;49m: by, \u001b[39m\"\u001b[39;49m\u001b[39mvalue\u001b[39;49m\u001b[39m\"\u001b[39;49m: value})[\u001b[39m\"\u001b[39m\u001b[39mvalue\u001b[39m\u001b[39m\"\u001b[39m]\n",
      "File \u001b[1;32mc:\\Users\\vgvic\\AppData\\Local\\Programs\\Python\\Python310\\lib\\site-packages\\selenium\\webdriver\\remote\\webdriver.py:440\u001b[0m, in \u001b[0;36mWebDriver.execute\u001b[1;34m(self, driver_command, params)\u001b[0m\n\u001b[0;32m    438\u001b[0m response \u001b[39m=\u001b[39m \u001b[39mself\u001b[39m\u001b[39m.\u001b[39mcommand_executor\u001b[39m.\u001b[39mexecute(driver_command, params)\n\u001b[0;32m    439\u001b[0m \u001b[39mif\u001b[39;00m response:\n\u001b[1;32m--> 440\u001b[0m     \u001b[39mself\u001b[39;49m\u001b[39m.\u001b[39;49merror_handler\u001b[39m.\u001b[39;49mcheck_response(response)\n\u001b[0;32m    441\u001b[0m     response[\u001b[39m\"\u001b[39m\u001b[39mvalue\u001b[39m\u001b[39m\"\u001b[39m] \u001b[39m=\u001b[39m \u001b[39mself\u001b[39m\u001b[39m.\u001b[39m_unwrap_value(response\u001b[39m.\u001b[39mget(\u001b[39m\"\u001b[39m\u001b[39mvalue\u001b[39m\u001b[39m\"\u001b[39m, \u001b[39mNone\u001b[39;00m))\n\u001b[0;32m    442\u001b[0m     \u001b[39mreturn\u001b[39;00m response\n",
      "File \u001b[1;32mc:\\Users\\vgvic\\AppData\\Local\\Programs\\Python\\Python310\\lib\\site-packages\\selenium\\webdriver\\remote\\errorhandler.py:245\u001b[0m, in \u001b[0;36mErrorHandler.check_response\u001b[1;34m(self, response)\u001b[0m\n\u001b[0;32m    243\u001b[0m         alert_text \u001b[39m=\u001b[39m value[\u001b[39m\"\u001b[39m\u001b[39malert\u001b[39m\u001b[39m\"\u001b[39m]\u001b[39m.\u001b[39mget(\u001b[39m\"\u001b[39m\u001b[39mtext\u001b[39m\u001b[39m\"\u001b[39m)\n\u001b[0;32m    244\u001b[0m     \u001b[39mraise\u001b[39;00m exception_class(message, screen, stacktrace, alert_text)  \u001b[39m# type: ignore[call-arg]  # mypy is not smart enough here\u001b[39;00m\n\u001b[1;32m--> 245\u001b[0m \u001b[39mraise\u001b[39;00m exception_class(message, screen, stacktrace)\n",
      "\u001b[1;31mNoSuchElementException\u001b[0m: Message: no such element: Unable to locate element: {\"method\":\"xpath\",\"selector\":\"//*[@id='watch-card-subtitle']\"}\n  (Session info: chrome=109.0.5414.122)\nStacktrace:\nBacktrace:\n\t(No symbol) [0x00306643]\n\t(No symbol) [0x0029BE21]\n\t(No symbol) [0x0019DA9D]\n\t(No symbol) [0x001D1342]\n\t(No symbol) [0x001D147B]\n\t(No symbol) [0x00208DC2]\n\t(No symbol) [0x001EFDC4]\n\t(No symbol) [0x00206B09]\n\t(No symbol) [0x001EFB76]\n\t(No symbol) [0x001C49C1]\n\t(No symbol) [0x001C5E5D]\n\tGetHandleVerifier [0x0057A142+2497106]\n\tGetHandleVerifier [0x005A85D3+2686691]\n\tGetHandleVerifier [0x005ABB9C+2700460]\n\tGetHandleVerifier [0x003B3B10+635936]\n\t(No symbol) [0x002A4A1F]\n\t(No symbol) [0x002AA418]\n\t(No symbol) [0x002AA505]\n\t(No symbol) [0x002B508B]\n\tBaseThreadInitThunk [0x75FB7D69+25]\n\tRtlInitializeExceptionChain [0x772ABB9B+107]\n\tRtlClearBits [0x772ABB1F+191]\n\t(No symbol) [0x00000000]\n"
     ]
    }
   ],
   "source": [
    "import pandas as pd\n",
    "from selenium import webdriver\n",
    "from selenium.webdriver.common.by import By\n",
    "from selenium.webdriver.common.keys import Keys\n",
    "from selenium.webdriver.support.ui import WebDriverWait\n",
    "from selenium.webdriver.support import expected_conditions as EC\n",
    "import time\n",
    "from webdriver_manager.chrome import ChromeDriverManager\n",
    "\n",
    "driver = webdriver.Chrome(ChromeDriverManager().install())\n",
    "driver.maximize_window()\n",
    "\n",
    "presence = EC.presence_of_element_located\n",
    "visible = EC.visibility_of_element_located\n",
    "wait = WebDriverWait(driver, 5)\n",
    "res=[]\n",
    "titre= []\n",
    "nb_vue= []\n",
    "date= []\n",
    "chaine= []\n",
    "\n",
    "# Navigate to url with video being appended to search_query\n",
    "driver.get('https://www.youtube.com/results?search_query={}'.format(str(data_twitch[\"Jeu\"][0])))\n",
    "\n",
    "button = driver.find_element(By.XPATH,\"//*[@id='content']/div[2]/div[6]/div[1]/ytd-button-renderer[1]/yt-button-shape/button/yt-touch-feedback-shape/div/div[2]\")\n",
    "button.click()\n",
    "\n",
    "# play the video\n",
    "\n",
    "driver.find_element(By.XPATH, \"//*[@id='watch-card-subtitle']\").click()\n",
    "wait.until(visible((By.XPATH, \"//*[@id='tabsContent']/tp-yt-paper-tab[3]/div\")))\n",
    "driver.find_element(By.XPATH, \"//*[@id='tabsContent']/tp-yt-paper-tab[3]/div\").click()\n",
    "\n",
    "time.sleep(1)\n",
    "\n",
    "height = driver.execute_script('''var body = document.body,\n",
    "                                    html = document.documentElement;\n",
    "                                    var height = Math.max( body.scrollHeight, body.offsetHeight, \n",
    "                                    html.clientHeight, html.scrollHeight, html.offsetHeight );\n",
    "                                    return height;''')\n",
    "\n",
    "driver.execute_script(\"window.scrollTo(0, \"+str(height)+\");\")\n",
    "\n",
    "# Extraire le nombre de spectateurs à partir de l'élément HTML approprié\n",
    "\n",
    "for i in range(1,101):\n",
    "    \n",
    "    titre+= driver.find_elements(By.XPATH,\"/html/body/ytd-app/div[1]/ytd-page-manager/ytd-browse/ytd-two-column-browse-results-renderer/div[1]/ytd-section-list-renderer/div[2]/ytd-item-section-renderer/div[3]/ytd-grid-renderer/div[1]/ytd-grid-video-renderer[\"+str(i)+\"]/div[1]/div[1]/div[1]/h3/a\")\n",
    "    chaine+= driver.find_elements(By.XPATH,\"/html/body/ytd-app/div[1]/ytd-page-manager/ytd-browse/ytd-two-column-browse-results-renderer/div[1]/ytd-section-list-renderer/div[2]/ytd-item-section-renderer/div[3]/ytd-grid-renderer/div[1]/ytd-grid-video-renderer[\"+str(i)+\"]/div[1]/div[1]/div[1]/div/div[1]/div[1]/ytd-channel-name/div/div/yt-formatted-string/a\")\n",
    "    nb_vue+= driver.find_elements(By.XPATH,\"/html/body/ytd-app/div[1]/ytd-page-manager/ytd-browse/ytd-two-column-browse-results-renderer/div[1]/ytd-section-list-renderer/div[2]/ytd-item-section-renderer/div[3]/ytd-grid-renderer/div[1]/ytd-grid-video-renderer[\"+str(i)+\"]/div[1]/div[1]/div[1]/div/div[1]/div[2]/span[1]\")\n",
    "    date+= driver.find_elements(By.XPATH,\"/html/body/ytd-app/div[1]/ytd-page-manager/ytd-browse/ytd-two-column-browse-results-renderer/div[1]/ytd-section-list-renderer/div[2]/ytd-item-section-renderer/div[3]/ytd-grid-renderer/div[1]/ytd-grid-video-renderer[\"+str(i)+\"]/div[1]/div[1]/div[1]/div/div[1]/div[2]/span[2]\")\n",
    "\n",
    "# Récupération des données des vidéos Youtube\n",
    "\n",
    "titres= [titre[i].text for i in range(len(titre))]\n",
    "chaines= [chaine[i].text for i in range(len(chaine))]\n",
    "nb_vues= [nb_vue[i].text for i in range(len(nb_vue))]\n",
    "dates= [date[i].text for i in range(len(date))]\n",
    "\n",
    "data_youtube= pd.DataFrame(list(zip(titres, chaines, nb_vues, dates)), columns=[\"Titre de la vidéo\", \"Chaîne\", \"Nombre de vues\", \"Date de publication\"]) #Dataframe final\n",
    "\n",
    "data_youtube"
   ]
  }
 ],
 "metadata": {
  "kernelspec": {
   "display_name": "Python 3",
   "language": "python",
   "name": "python3"
  },
  "language_info": {
   "codemirror_mode": {
    "name": "ipython",
    "version": 3
   },
   "file_extension": ".py",
   "mimetype": "text/x-python",
   "name": "python",
   "nbconvert_exporter": "python",
   "pygments_lexer": "ipython3",
   "version": "3.10.9"
  },
  "orig_nbformat": 4,
  "vscode": {
   "interpreter": {
    "hash": "0284b1e34e494781da6537966084e394639bb3ab30a3ea3d0b2b75175f82c078"
   }
  }
 },
 "nbformat": 4,
 "nbformat_minor": 2
}
