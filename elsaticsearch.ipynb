{
 "cells": [
  {
   "cell_type": "code",
   "execution_count": 55,
   "metadata": {},
   "outputs": [],
   "source": [
    "from elasticsearch import Elasticsearch\n",
    "import pandas as pd\n",
    "\n",
    "es_client = Elasticsearch([{\"host\":\"localhost\",\"port\":9200}])\n",
    "\n",
    "df = pd.DataFrame({0: ['Hogwarts Legacy - Official Launch Trailer 4K', 'Hogwarts Legacy Review', 'Hogwarts Legacy - Before You Buy'],\n",
    "                1: ['Hogwarts Legacy', 'IGN', 'gameranx'],\n",
    "                2: ['3,2 M de vues', '1,8 M de vues', '1,8 M de vues'],\n",
    "                3: ['il y a 6 jours', 'il y a 2 jours', 'il y a 1 jour']})\n",
    "df.columns = ['title', 'channel', 'views', 'date']\n",
    "\n"
   ]
  },
  {
   "cell_type": "code",
   "execution_count": 56,
   "metadata": {},
   "outputs": [
    {
     "data": {
      "text/plain": [
       "True"
      ]
     },
     "execution_count": 56,
     "metadata": {},
     "output_type": "execute_result"
    }
   ],
   "source": [
    "es_client.ping()"
   ]
  },
  {
   "cell_type": "code",
   "execution_count": 57,
   "metadata": {},
   "outputs": [],
   "source": [
    "documents = df.fillna(\"\").to_dict(orient=\"records\")"
   ]
  },
  {
   "cell_type": "code",
   "execution_count": 58,
   "metadata": {},
   "outputs": [
    {
     "data": {
      "text/plain": [
       "[{'title': 'Hogwarts Legacy - Official Launch Trailer 4K',\n",
       "  'channel': 'Hogwarts Legacy',\n",
       "  'views': '3,2 M de vues',\n",
       "  'date': 'il y a 6 jours'},\n",
       " {'title': 'Hogwarts Legacy Review',\n",
       "  'channel': 'IGN',\n",
       "  'views': '1,8 M de vues',\n",
       "  'date': 'il y a 2 jours'},\n",
       " {'title': 'Hogwarts Legacy - Before You Buy',\n",
       "  'channel': 'gameranx',\n",
       "  'views': '1,8 M de vues',\n",
       "  'date': 'il y a 1 jour'}]"
      ]
     },
     "execution_count": 58,
     "metadata": {},
     "output_type": "execute_result"
    }
   ],
   "source": [
    "documents"
   ]
  },
  {
   "cell_type": "code",
   "execution_count": 59,
   "metadata": {},
   "outputs": [],
   "source": [
    "from elasticsearch.helpers import bulk"
   ]
  },
  {
   "cell_type": "code",
   "execution_count": 44,
   "metadata": {},
   "outputs": [
    {
     "name": "stderr",
     "output_type": "stream",
     "text": [
      "c:\\Users\\vgvic\\AppData\\Local\\Programs\\Python\\Python310\\lib\\site-packages\\elasticsearch\\connection\\base.py:190: ElasticsearchDeprecationWarning: [types removal] Specifying types in bulk requests is deprecated.\n",
      "  warnings.warn(message, category=ElasticsearchDeprecationWarning)\n"
     ]
    }
   ],
   "source": [
    "def generate_data(documents):\n",
    "    for docu in documents:\n",
    "        yield {\n",
    "            \"_index\": \"games\",\n",
    "            \"_type\": \"game\",\n",
    "            \"_source\": {k:v if v else None for k,v in docu.items()},\n",
    "        }\n",
    "\n",
    "documents= bulk(es_client, generate_data(documents))"
   ]
  },
  {
   "cell_type": "code",
   "execution_count": 49,
   "metadata": {},
   "outputs": [],
   "source": [
    "QUERY = {\n",
    "    \"query\": {\n",
    "        \"match_all\": {}\n",
    "    }\n",
    "}"
   ]
  },
  {
   "cell_type": "code",
   "execution_count": 54,
   "metadata": {},
   "outputs": [
    {
     "data": {
      "text/plain": [
       "[{'_index': 'games',\n",
       "  '_type': 'game',\n",
       "  '_id': 'HL-tVYYBWaHKXcVdXL1Z',\n",
       "  '_score': 1.0,\n",
       "  '_source': {'title': 'Hogwarts Legacy - Official Launch Trailer 4K',\n",
       "   'channel': 'Hogwarts Legacy',\n",
       "   'views': '3,2 M de vues',\n",
       "   'date': 'il y a 6 jours'}},\n",
       " {'_index': 'games',\n",
       "  '_type': 'game',\n",
       "  '_id': 'Hb-tVYYBWaHKXcVdXL1Z',\n",
       "  '_score': 1.0,\n",
       "  '_source': {'title': 'Hogwarts Legacy Review',\n",
       "   'channel': 'IGN',\n",
       "   'views': '1,8 M de vues',\n",
       "   'date': 'il y a 2 jours'}},\n",
       " {'_index': 'games',\n",
       "  '_type': 'game',\n",
       "  '_id': 'Hr-tVYYBWaHKXcVdXL1Z',\n",
       "  '_score': 1.0,\n",
       "  '_source': {'title': 'Hogwarts Legacy - Before You Buy',\n",
       "   'channel': 'gameranx',\n",
       "   'views': '1,8 M de vues',\n",
       "   'date': 'il y a 1 jour'}},\n",
       " {'_index': 'games',\n",
       "  '_type': 'game',\n",
       "  '_id': '6UKvVYYBmvzEtS1nVDLq',\n",
       "  '_score': 1.0,\n",
       "  '_source': {'title': 'Hogwarts Legacy - Official Launch Trailer 4K',\n",
       "   'channel': 'Hogwarts Legacy',\n",
       "   'views': '3,2 M de vues',\n",
       "   'date': 'il y a 6 jours'}},\n",
       " {'_index': 'games',\n",
       "  '_type': 'game',\n",
       "  '_id': '6kKvVYYBmvzEtS1nVDLq',\n",
       "  '_score': 1.0,\n",
       "  '_source': {'title': 'Hogwarts Legacy Review',\n",
       "   'channel': 'IGN',\n",
       "   'views': '1,8 M de vues',\n",
       "   'date': 'il y a 2 jours'}},\n",
       " {'_index': 'games',\n",
       "  '_type': 'game',\n",
       "  '_id': '60KvVYYBmvzEtS1nVDLq',\n",
       "  '_score': 1.0,\n",
       "  '_source': {'title': 'Hogwarts Legacy - Before You Buy',\n",
       "   'channel': 'gameranx',\n",
       "   'views': '1,8 M de vues',\n",
       "   'date': 'il y a 1 jour'}}]"
      ]
     },
     "execution_count": 54,
     "metadata": {},
     "output_type": "execute_result"
    }
   ],
   "source": [
    "result = es_client.search(index=\"games\", body=QUERY)\n",
    "result['hits']['hits']"
   ]
  }
 ],
 "metadata": {
  "kernelspec": {
   "display_name": "Python 3",
   "language": "python",
   "name": "python3"
  },
  "language_info": {
   "codemirror_mode": {
    "name": "ipython",
    "version": 3
   },
   "file_extension": ".py",
   "mimetype": "text/x-python",
   "name": "python",
   "nbconvert_exporter": "python",
   "pygments_lexer": "ipython3",
   "version": "3.10.9"
  },
  "orig_nbformat": 4,
  "vscode": {
   "interpreter": {
    "hash": "0284b1e34e494781da6537966084e394639bb3ab30a3ea3d0b2b75175f82c078"
   }
  }
 },
 "nbformat": 4,
 "nbformat_minor": 2
}
