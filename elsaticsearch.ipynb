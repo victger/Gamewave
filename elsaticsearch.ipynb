{
 "cells": [
  {
   "cell_type": "code",
   "execution_count": 16,
   "metadata": {},
   "outputs": [
    {
     "ename": "RequestError",
     "evalue": "RequestError(400, 'illegal_argument_exception', 'mapper [views] of different type, current_type [text], merged_type [integer]')",
     "output_type": "error",
     "traceback": [
      "\u001b[1;31m---------------------------------------------------------------------------\u001b[0m",
      "\u001b[1;31mRequestError\u001b[0m                              Traceback (most recent call last)",
      "Cell \u001b[1;32mIn [16], line 18\u001b[0m\n\u001b[0;32m     15\u001b[0m     \u001b[39mclass\u001b[39;00m \u001b[39mIndex\u001b[39;00m:\n\u001b[0;32m     16\u001b[0m         name \u001b[39m=\u001b[39m \u001b[39m'\u001b[39m\u001b[39mvideo_index\u001b[39m\u001b[39m'\u001b[39m\n\u001b[1;32m---> 18\u001b[0m Video\u001b[39m.\u001b[39;49minit()\n\u001b[0;32m     20\u001b[0m df \u001b[39m=\u001b[39m pd\u001b[39m.\u001b[39mDataFrame({\u001b[39m0\u001b[39m: [\u001b[39m'\u001b[39m\u001b[39mHogwarts Legacy - Official Launch Trailer 4K\u001b[39m\u001b[39m'\u001b[39m, \u001b[39m'\u001b[39m\u001b[39mHogwarts Legacy Review\u001b[39m\u001b[39m'\u001b[39m, \u001b[39m'\u001b[39m\u001b[39mHogwarts Legacy - Before You Buy\u001b[39m\u001b[39m'\u001b[39m],\n\u001b[0;32m     21\u001b[0m                 \u001b[39m1\u001b[39m: [\u001b[39m'\u001b[39m\u001b[39mHogwarts Legacy\u001b[39m\u001b[39m'\u001b[39m, \u001b[39m'\u001b[39m\u001b[39mIGN\u001b[39m\u001b[39m'\u001b[39m, \u001b[39m'\u001b[39m\u001b[39mgameranx\u001b[39m\u001b[39m'\u001b[39m],\n\u001b[0;32m     22\u001b[0m                 \u001b[39m2\u001b[39m: [\u001b[39m'\u001b[39m\u001b[39m3,2 M de vues\u001b[39m\u001b[39m'\u001b[39m, \u001b[39m'\u001b[39m\u001b[39m1,8 M de vues\u001b[39m\u001b[39m'\u001b[39m, \u001b[39m'\u001b[39m\u001b[39m1,8 M de vues\u001b[39m\u001b[39m'\u001b[39m],\n\u001b[0;32m     23\u001b[0m                 \u001b[39m3\u001b[39m: [\u001b[39m'\u001b[39m\u001b[39mil y a 6 jours\u001b[39m\u001b[39m'\u001b[39m, \u001b[39m'\u001b[39m\u001b[39mil y a 2 jours\u001b[39m\u001b[39m'\u001b[39m, \u001b[39m'\u001b[39m\u001b[39mil y a 1 jour\u001b[39m\u001b[39m'\u001b[39m]})\n\u001b[0;32m     25\u001b[0m df\u001b[39m.\u001b[39mcolumns \u001b[39m=\u001b[39m [\u001b[39m'\u001b[39m\u001b[39mtitle\u001b[39m\u001b[39m'\u001b[39m, \u001b[39m'\u001b[39m\u001b[39mchannel\u001b[39m\u001b[39m'\u001b[39m, \u001b[39m'\u001b[39m\u001b[39mviews\u001b[39m\u001b[39m'\u001b[39m, \u001b[39m'\u001b[39m\u001b[39mdate\u001b[39m\u001b[39m'\u001b[39m]\n",
      "File \u001b[1;32mc:\\Users\\vgvic\\AppData\\Local\\Programs\\Python\\Python310\\lib\\site-packages\\elasticsearch_dsl\\document.py:156\u001b[0m, in \u001b[0;36mDocument.init\u001b[1;34m(cls, index, using)\u001b[0m\n\u001b[0;32m    154\u001b[0m \u001b[39mif\u001b[39;00m index:\n\u001b[0;32m    155\u001b[0m     i \u001b[39m=\u001b[39m i\u001b[39m.\u001b[39mclone(name\u001b[39m=\u001b[39mindex)\n\u001b[1;32m--> 156\u001b[0m i\u001b[39m.\u001b[39;49msave(using\u001b[39m=\u001b[39;49musing)\n",
      "File \u001b[1;32mc:\\Users\\vgvic\\AppData\\Local\\Programs\\Python\\Python310\\lib\\site-packages\\elasticsearch_dsl\\index.py:341\u001b[0m, in \u001b[0;36mIndex.save\u001b[1;34m(self, using)\u001b[0m\n\u001b[0;32m    339\u001b[0m mappings \u001b[39m=\u001b[39m body\u001b[39m.\u001b[39mpop(\u001b[39m\"\u001b[39m\u001b[39mmappings\u001b[39m\u001b[39m\"\u001b[39m, {})\n\u001b[0;32m    340\u001b[0m \u001b[39mif\u001b[39;00m mappings:\n\u001b[1;32m--> 341\u001b[0m     \u001b[39mself\u001b[39;49m\u001b[39m.\u001b[39;49mput_mapping(using\u001b[39m=\u001b[39;49musing, body\u001b[39m=\u001b[39;49mmappings)\n",
      "File \u001b[1;32mc:\\Users\\vgvic\\AppData\\Local\\Programs\\Python\\Python310\\lib\\site-packages\\elasticsearch_dsl\\index.py:434\u001b[0m, in \u001b[0;36mIndex.put_mapping\u001b[1;34m(self, using, **kwargs)\u001b[0m\n\u001b[0;32m    427\u001b[0m \u001b[39mdef\u001b[39;00m \u001b[39mput_mapping\u001b[39m(\u001b[39mself\u001b[39m, using\u001b[39m=\u001b[39m\u001b[39mNone\u001b[39;00m, \u001b[39m*\u001b[39m\u001b[39m*\u001b[39mkwargs):\n\u001b[0;32m    428\u001b[0m     \u001b[39m\"\"\"\u001b[39;00m\n\u001b[0;32m    429\u001b[0m \u001b[39m    Register specific mapping definition for a specific type.\u001b[39;00m\n\u001b[0;32m    430\u001b[0m \n\u001b[0;32m    431\u001b[0m \u001b[39m    Any additional keyword arguments will be passed to\u001b[39;00m\n\u001b[0;32m    432\u001b[0m \u001b[39m    ``Elasticsearch.indices.put_mapping`` unchanged.\u001b[39;00m\n\u001b[0;32m    433\u001b[0m \u001b[39m    \"\"\"\u001b[39;00m\n\u001b[1;32m--> 434\u001b[0m     \u001b[39mreturn\u001b[39;00m \u001b[39mself\u001b[39m\u001b[39m.\u001b[39m_get_connection(using)\u001b[39m.\u001b[39mindices\u001b[39m.\u001b[39mput_mapping(\n\u001b[0;32m    435\u001b[0m         index\u001b[39m=\u001b[39m\u001b[39mself\u001b[39m\u001b[39m.\u001b[39m_name, \u001b[39m*\u001b[39m\u001b[39m*\u001b[39mkwargs\n\u001b[0;32m    436\u001b[0m     )\n",
      "File \u001b[1;32mc:\\Users\\vgvic\\AppData\\Local\\Programs\\Python\\Python310\\lib\\site-packages\\elasticsearch\\client\\utils.py:347\u001b[0m, in \u001b[0;36mquery_params.<locals>._wrapper.<locals>._wrapped\u001b[1;34m(*args, **kwargs)\u001b[0m\n\u001b[0;32m    345\u001b[0m     \u001b[39mif\u001b[39;00m p \u001b[39min\u001b[39;00m kwargs:\n\u001b[0;32m    346\u001b[0m         params[p] \u001b[39m=\u001b[39m kwargs\u001b[39m.\u001b[39mpop(p)\n\u001b[1;32m--> 347\u001b[0m \u001b[39mreturn\u001b[39;00m func(\u001b[39m*\u001b[39margs, params\u001b[39m=\u001b[39mparams, headers\u001b[39m=\u001b[39mheaders, \u001b[39m*\u001b[39m\u001b[39m*\u001b[39mkwargs)\n",
      "File \u001b[1;32mc:\\Users\\vgvic\\AppData\\Local\\Programs\\Python\\Python310\\lib\\site-packages\\elasticsearch\\client\\indices.py:457\u001b[0m, in \u001b[0;36mIndicesClient.put_mapping\u001b[1;34m(self, body, index, doc_type, params, headers)\u001b[0m\n\u001b[0;32m    454\u001b[0m \u001b[39mif\u001b[39;00m doc_type \u001b[39mnot\u001b[39;00m \u001b[39min\u001b[39;00m SKIP_IN_PATH \u001b[39mand\u001b[39;00m index \u001b[39min\u001b[39;00m SKIP_IN_PATH:\n\u001b[0;32m    455\u001b[0m     index \u001b[39m=\u001b[39m \u001b[39m\"\u001b[39m\u001b[39m_all\u001b[39m\u001b[39m\"\u001b[39m\n\u001b[1;32m--> 457\u001b[0m \u001b[39mreturn\u001b[39;00m \u001b[39mself\u001b[39;49m\u001b[39m.\u001b[39;49mtransport\u001b[39m.\u001b[39;49mperform_request(\n\u001b[0;32m    458\u001b[0m     \u001b[39m\"\u001b[39;49m\u001b[39mPUT\u001b[39;49m\u001b[39m\"\u001b[39;49m,\n\u001b[0;32m    459\u001b[0m     _make_path(index, doc_type, \u001b[39m\"\u001b[39;49m\u001b[39m_mapping\u001b[39;49m\u001b[39m\"\u001b[39;49m),\n\u001b[0;32m    460\u001b[0m     params\u001b[39m=\u001b[39;49mparams,\n\u001b[0;32m    461\u001b[0m     headers\u001b[39m=\u001b[39;49mheaders,\n\u001b[0;32m    462\u001b[0m     body\u001b[39m=\u001b[39;49mbody,\n\u001b[0;32m    463\u001b[0m )\n",
      "File \u001b[1;32mc:\\Users\\vgvic\\AppData\\Local\\Programs\\Python\\Python310\\lib\\site-packages\\elasticsearch\\transport.py:466\u001b[0m, in \u001b[0;36mTransport.perform_request\u001b[1;34m(self, method, url, headers, params, body)\u001b[0m\n\u001b[0;32m    464\u001b[0m             \u001b[39mraise\u001b[39;00m e\n\u001b[0;32m    465\u001b[0m     \u001b[39melse\u001b[39;00m:\n\u001b[1;32m--> 466\u001b[0m         \u001b[39mraise\u001b[39;00m e\n\u001b[0;32m    468\u001b[0m \u001b[39melse\u001b[39;00m:\n\u001b[0;32m    469\u001b[0m     \u001b[39m# connection didn't fail, confirm it's live status\u001b[39;00m\n\u001b[0;32m    470\u001b[0m     \u001b[39mself\u001b[39m\u001b[39m.\u001b[39mconnection_pool\u001b[39m.\u001b[39mmark_live(connection)\n",
      "File \u001b[1;32mc:\\Users\\vgvic\\AppData\\Local\\Programs\\Python\\Python310\\lib\\site-packages\\elasticsearch\\transport.py:427\u001b[0m, in \u001b[0;36mTransport.perform_request\u001b[1;34m(self, method, url, headers, params, body)\u001b[0m\n\u001b[0;32m    424\u001b[0m connection \u001b[39m=\u001b[39m \u001b[39mself\u001b[39m\u001b[39m.\u001b[39mget_connection()\n\u001b[0;32m    426\u001b[0m \u001b[39mtry\u001b[39;00m:\n\u001b[1;32m--> 427\u001b[0m     status, headers_response, data \u001b[39m=\u001b[39m connection\u001b[39m.\u001b[39;49mperform_request(\n\u001b[0;32m    428\u001b[0m         method,\n\u001b[0;32m    429\u001b[0m         url,\n\u001b[0;32m    430\u001b[0m         params,\n\u001b[0;32m    431\u001b[0m         body,\n\u001b[0;32m    432\u001b[0m         headers\u001b[39m=\u001b[39;49mheaders,\n\u001b[0;32m    433\u001b[0m         ignore\u001b[39m=\u001b[39;49mignore,\n\u001b[0;32m    434\u001b[0m         timeout\u001b[39m=\u001b[39;49mtimeout,\n\u001b[0;32m    435\u001b[0m     )\n\u001b[0;32m    437\u001b[0m     \u001b[39m# Lowercase all the header names for consistency in accessing them.\u001b[39;00m\n\u001b[0;32m    438\u001b[0m     headers_response \u001b[39m=\u001b[39m {\n\u001b[0;32m    439\u001b[0m         header\u001b[39m.\u001b[39mlower(): value \u001b[39mfor\u001b[39;00m header, value \u001b[39min\u001b[39;00m headers_response\u001b[39m.\u001b[39mitems()\n\u001b[0;32m    440\u001b[0m     }\n",
      "File \u001b[1;32mc:\\Users\\vgvic\\AppData\\Local\\Programs\\Python\\Python310\\lib\\site-packages\\elasticsearch\\connection\\http_urllib3.py:291\u001b[0m, in \u001b[0;36mUrllib3HttpConnection.perform_request\u001b[1;34m(self, method, url, params, body, timeout, ignore, headers)\u001b[0m\n\u001b[0;32m    287\u001b[0m \u001b[39mif\u001b[39;00m \u001b[39mnot\u001b[39;00m (\u001b[39m200\u001b[39m \u001b[39m<\u001b[39m\u001b[39m=\u001b[39m response\u001b[39m.\u001b[39mstatus \u001b[39m<\u001b[39m \u001b[39m300\u001b[39m) \u001b[39mand\u001b[39;00m response\u001b[39m.\u001b[39mstatus \u001b[39mnot\u001b[39;00m \u001b[39min\u001b[39;00m ignore:\n\u001b[0;32m    288\u001b[0m     \u001b[39mself\u001b[39m\u001b[39m.\u001b[39mlog_request_fail(\n\u001b[0;32m    289\u001b[0m         method, full_url, url, orig_body, duration, response\u001b[39m.\u001b[39mstatus, raw_data\n\u001b[0;32m    290\u001b[0m     )\n\u001b[1;32m--> 291\u001b[0m     \u001b[39mself\u001b[39;49m\u001b[39m.\u001b[39;49m_raise_error(response\u001b[39m.\u001b[39;49mstatus, raw_data)\n\u001b[0;32m    293\u001b[0m \u001b[39mself\u001b[39m\u001b[39m.\u001b[39mlog_request_success(\n\u001b[0;32m    294\u001b[0m     method, full_url, url, orig_body, response\u001b[39m.\u001b[39mstatus, raw_data, duration\n\u001b[0;32m    295\u001b[0m )\n\u001b[0;32m    297\u001b[0m \u001b[39mreturn\u001b[39;00m response\u001b[39m.\u001b[39mstatus, response_headers, raw_data\n",
      "File \u001b[1;32mc:\\Users\\vgvic\\AppData\\Local\\Programs\\Python\\Python310\\lib\\site-packages\\elasticsearch\\connection\\base.py:328\u001b[0m, in \u001b[0;36mConnection._raise_error\u001b[1;34m(self, status_code, raw_data)\u001b[0m\n\u001b[0;32m    325\u001b[0m \u001b[39mexcept\u001b[39;00m (\u001b[39mValueError\u001b[39;00m, \u001b[39mTypeError\u001b[39;00m) \u001b[39mas\u001b[39;00m err:\n\u001b[0;32m    326\u001b[0m     logger\u001b[39m.\u001b[39mwarning(\u001b[39m\"\u001b[39m\u001b[39mUndecodable raw error response from server: \u001b[39m\u001b[39m%s\u001b[39;00m\u001b[39m\"\u001b[39m, err)\n\u001b[1;32m--> 328\u001b[0m \u001b[39mraise\u001b[39;00m HTTP_EXCEPTIONS\u001b[39m.\u001b[39mget(status_code, TransportError)(\n\u001b[0;32m    329\u001b[0m     status_code, error_message, additional_info\n\u001b[0;32m    330\u001b[0m )\n",
      "\u001b[1;31mRequestError\u001b[0m: RequestError(400, 'illegal_argument_exception', 'mapper [views] of different type, current_type [text], merged_type [integer]')"
     ]
    }
   ],
   "source": [
    "from elasticsearch import Elasticsearch\n",
    "from elasticsearch_dsl import Document, Text, Integer\n",
    "from elasticsearch_dsl.connections import connections\n",
    "import pandas as pd\n",
    "\n",
    "es = Elasticsearch([{\"host\":\"localhost\",\"port\":9200}])\n",
    "connections.create_connection(hosts=['localhost'], timeout=20)\n",
    "\n",
    "class Video(Document):\n",
    "    title = Text()\n",
    "    channel = Text()\n",
    "    views = Text()\n",
    "    date = Text()\n",
    "\n",
    "    class Index:\n",
    "        name = 'video_index'\n",
    "\n",
    "Video.init()\n",
    "\n",
    "df = pd.DataFrame({0: ['Hogwarts Legacy - Official Launch Trailer 4K', 'Hogwarts Legacy Review', 'Hogwarts Legacy - Before You Buy'],\n",
    "                1: ['Hogwarts Legacy', 'IGN', 'gameranx'],\n",
    "                2: ['3,2 M de vues', '1,8 M de vues', '1,8 M de vues'],\n",
    "                3: ['il y a 6 jours', 'il y a 2 jours', 'il y a 1 jour']})\n",
    "df.columns = ['title', 'channel', 'views', 'date']\n",
    "\n",
    "objs = [Video(title=row['title'], channel=row['channel'], views=row['views'], date=row['date'])\n",
    "        for idx, row in df.iterrows()]\n",
    "\n",
    "results = Video.search().filter(\"match\", title=df['title'].tolist()).execute()\n",
    "for result in results:\n",
    "    print(result.title, result.channel, result.views, result.date)"
   ]
  },
  {
   "cell_type": "code",
   "execution_count": 23,
   "metadata": {},
   "outputs": [
    {
     "ename": "BulkIndexError",
     "evalue": "('3 document(s) failed to index.', [{'index': {'_index': 'video', '_type': '_doc', '_id': 'QKvSR4YBhrue8HVRUAeL', 'status': 400, 'error': {'type': 'mapper_parsing_exception', 'reason': 'failed to parse', 'caused_by': {'type': 'not_x_content_exception', 'reason': 'Compressor detection can only be called on some xcontent bytes or compressed xcontent bytes'}}, 'data': title      Hogwarts Legacy - Official Launch Trailer 4K\nchannel                                 Hogwarts Legacy\nviews                                     3,2 M de vues\ndate                                     il y a 6 jours\nName: 0, dtype: object}}, {'index': {'_index': 'video', '_type': '_doc', '_id': 'QavSR4YBhrue8HVRUAeM', 'status': 400, 'error': {'type': 'mapper_parsing_exception', 'reason': 'failed to parse', 'caused_by': {'type': 'not_x_content_exception', 'reason': 'Compressor detection can only be called on some xcontent bytes or compressed xcontent bytes'}}, 'data': title      Hogwarts Legacy Review\nchannel                       IGN\nviews               1,8 M de vues\ndate               il y a 2 jours\nName: 1, dtype: object}}, {'index': {'_index': 'video', '_type': '_doc', '_id': 'QqvSR4YBhrue8HVRUAeM', 'status': 400, 'error': {'type': 'mapper_parsing_exception', 'reason': 'failed to parse', 'caused_by': {'type': 'not_x_content_exception', 'reason': 'Compressor detection can only be called on some xcontent bytes or compressed xcontent bytes'}}, 'data': title      Hogwarts Legacy - Before You Buy\nchannel                            gameranx\nviews                         1,8 M de vues\ndate                          il y a 1 jour\nName: 2, dtype: object}}])",
     "output_type": "error",
     "traceback": [
      "\u001b[1;31m---------------------------------------------------------------------------\u001b[0m",
      "\u001b[1;31mBulkIndexError\u001b[0m                            Traceback (most recent call last)",
      "Cell \u001b[1;32mIn [23], line 23\u001b[0m\n\u001b[0;32m     16\u001b[0m     \u001b[39mfor\u001b[39;00m index, document \u001b[39min\u001b[39;00m df_iter:\n\u001b[0;32m     17\u001b[0m         \u001b[39myield\u001b[39;00m{\n\u001b[0;32m     18\u001b[0m             \u001b[39m\"\u001b[39m\u001b[39m_index\u001b[39m\u001b[39m\"\u001b[39m:\u001b[39m\"\u001b[39m\u001b[39mvideo\u001b[39m\u001b[39m\"\u001b[39m,\n\u001b[0;32m     19\u001b[0m             \u001b[39m\"\u001b[39m\u001b[39m_type\u001b[39m\u001b[39m\"\u001b[39m: \u001b[39m\"\u001b[39m\u001b[39m_doc\u001b[39m\u001b[39m\"\u001b[39m,\n\u001b[0;32m     20\u001b[0m             \u001b[39m\"\u001b[39m\u001b[39m_source\u001b[39m\u001b[39m\"\u001b[39m: document\n\u001b[0;32m     21\u001b[0m         }\n\u001b[1;32m---> 23\u001b[0m helpers\u001b[39m.\u001b[39;49mbulk(es, doc_generator(df))\n",
      "File \u001b[1;32mc:\\Users\\vgvic\\AppData\\Local\\Programs\\Python\\Python310\\lib\\site-packages\\elasticsearch\\helpers\\actions.py:410\u001b[0m, in \u001b[0;36mbulk\u001b[1;34m(client, actions, stats_only, ignore_status, *args, **kwargs)\u001b[0m\n\u001b[0;32m    408\u001b[0m \u001b[39m# make streaming_bulk yield successful results so we can count them\u001b[39;00m\n\u001b[0;32m    409\u001b[0m kwargs[\u001b[39m\"\u001b[39m\u001b[39myield_ok\u001b[39m\u001b[39m\"\u001b[39m] \u001b[39m=\u001b[39m \u001b[39mTrue\u001b[39;00m\n\u001b[1;32m--> 410\u001b[0m \u001b[39mfor\u001b[39;00m ok, item \u001b[39min\u001b[39;00m streaming_bulk(\n\u001b[0;32m    411\u001b[0m     client, actions, ignore_status\u001b[39m=\u001b[39mignore_status, \u001b[39m*\u001b[39margs, \u001b[39m*\u001b[39m\u001b[39m*\u001b[39mkwargs\n\u001b[0;32m    412\u001b[0m ):\n\u001b[0;32m    413\u001b[0m     \u001b[39m# go through request-response pairs and detect failures\u001b[39;00m\n\u001b[0;32m    414\u001b[0m     \u001b[39mif\u001b[39;00m \u001b[39mnot\u001b[39;00m ok:\n\u001b[0;32m    415\u001b[0m         \u001b[39mif\u001b[39;00m \u001b[39mnot\u001b[39;00m stats_only:\n",
      "File \u001b[1;32mc:\\Users\\vgvic\\AppData\\Local\\Programs\\Python\\Python310\\lib\\site-packages\\elasticsearch\\helpers\\actions.py:329\u001b[0m, in \u001b[0;36mstreaming_bulk\u001b[1;34m(client, actions, chunk_size, max_chunk_bytes, raise_on_error, expand_action_callback, raise_on_exception, max_retries, initial_backoff, max_backoff, yield_ok, ignore_status, *args, **kwargs)\u001b[0m\n\u001b[0;32m    326\u001b[0m     time\u001b[39m.\u001b[39msleep(\u001b[39mmin\u001b[39m(max_backoff, initial_backoff \u001b[39m*\u001b[39m \u001b[39m2\u001b[39m \u001b[39m*\u001b[39m\u001b[39m*\u001b[39m (attempt \u001b[39m-\u001b[39m \u001b[39m1\u001b[39m)))\n\u001b[0;32m    328\u001b[0m \u001b[39mtry\u001b[39;00m:\n\u001b[1;32m--> 329\u001b[0m     \u001b[39mfor\u001b[39;00m data, (ok, info) \u001b[39min\u001b[39;00m \u001b[39mzip\u001b[39m(\n\u001b[0;32m    330\u001b[0m         bulk_data,\n\u001b[0;32m    331\u001b[0m         _process_bulk_chunk(\n\u001b[0;32m    332\u001b[0m             client,\n\u001b[0;32m    333\u001b[0m             bulk_actions,\n\u001b[0;32m    334\u001b[0m             bulk_data,\n\u001b[0;32m    335\u001b[0m             raise_on_exception,\n\u001b[0;32m    336\u001b[0m             raise_on_error,\n\u001b[0;32m    337\u001b[0m             ignore_status,\n\u001b[0;32m    338\u001b[0m             \u001b[39m*\u001b[39margs,\n\u001b[0;32m    339\u001b[0m             \u001b[39m*\u001b[39m\u001b[39m*\u001b[39mkwargs\n\u001b[0;32m    340\u001b[0m         ),\n\u001b[0;32m    341\u001b[0m     ):\n\u001b[0;32m    343\u001b[0m         \u001b[39mif\u001b[39;00m \u001b[39mnot\u001b[39;00m ok:\n\u001b[0;32m    344\u001b[0m             action, info \u001b[39m=\u001b[39m info\u001b[39m.\u001b[39mpopitem()\n",
      "File \u001b[1;32mc:\\Users\\vgvic\\AppData\\Local\\Programs\\Python\\Python310\\lib\\site-packages\\elasticsearch\\helpers\\actions.py:256\u001b[0m, in \u001b[0;36m_process_bulk_chunk\u001b[1;34m(client, bulk_actions, bulk_data, raise_on_exception, raise_on_error, ignore_status, *args, **kwargs)\u001b[0m\n\u001b[0;32m    249\u001b[0m \u001b[39melse\u001b[39;00m:\n\u001b[0;32m    250\u001b[0m     gen \u001b[39m=\u001b[39m _process_bulk_chunk_success(\n\u001b[0;32m    251\u001b[0m         resp\u001b[39m=\u001b[39mresp,\n\u001b[0;32m    252\u001b[0m         bulk_data\u001b[39m=\u001b[39mbulk_data,\n\u001b[0;32m    253\u001b[0m         ignore_status\u001b[39m=\u001b[39mignore_status,\n\u001b[0;32m    254\u001b[0m         raise_on_error\u001b[39m=\u001b[39mraise_on_error,\n\u001b[0;32m    255\u001b[0m     )\n\u001b[1;32m--> 256\u001b[0m \u001b[39mfor\u001b[39;00m item \u001b[39min\u001b[39;00m gen:\n\u001b[0;32m    257\u001b[0m     \u001b[39myield\u001b[39;00m item\n",
      "File \u001b[1;32mc:\\Users\\vgvic\\AppData\\Local\\Programs\\Python\\Python310\\lib\\site-packages\\elasticsearch\\helpers\\actions.py:187\u001b[0m, in \u001b[0;36m_process_bulk_chunk_success\u001b[1;34m(resp, bulk_data, ignore_status, raise_on_error)\u001b[0m\n\u001b[0;32m    184\u001b[0m         \u001b[39myield\u001b[39;00m ok, {op_type: item}\n\u001b[0;32m    186\u001b[0m \u001b[39mif\u001b[39;00m errors:\n\u001b[1;32m--> 187\u001b[0m     \u001b[39mraise\u001b[39;00m BulkIndexError(\u001b[39m\"\u001b[39m\u001b[39m%i\u001b[39;00m\u001b[39m document(s) failed to index.\u001b[39m\u001b[39m\"\u001b[39m \u001b[39m%\u001b[39m \u001b[39mlen\u001b[39m(errors), errors)\n",
      "\u001b[1;31mBulkIndexError\u001b[0m: ('3 document(s) failed to index.', [{'index': {'_index': 'video', '_type': '_doc', '_id': 'QKvSR4YBhrue8HVRUAeL', 'status': 400, 'error': {'type': 'mapper_parsing_exception', 'reason': 'failed to parse', 'caused_by': {'type': 'not_x_content_exception', 'reason': 'Compressor detection can only be called on some xcontent bytes or compressed xcontent bytes'}}, 'data': title      Hogwarts Legacy - Official Launch Trailer 4K\nchannel                                 Hogwarts Legacy\nviews                                     3,2 M de vues\ndate                                     il y a 6 jours\nName: 0, dtype: object}}, {'index': {'_index': 'video', '_type': '_doc', '_id': 'QavSR4YBhrue8HVRUAeM', 'status': 400, 'error': {'type': 'mapper_parsing_exception', 'reason': 'failed to parse', 'caused_by': {'type': 'not_x_content_exception', 'reason': 'Compressor detection can only be called on some xcontent bytes or compressed xcontent bytes'}}, 'data': title      Hogwarts Legacy Review\nchannel                       IGN\nviews               1,8 M de vues\ndate               il y a 2 jours\nName: 1, dtype: object}}, {'index': {'_index': 'video', '_type': '_doc', '_id': 'QqvSR4YBhrue8HVRUAeM', 'status': 400, 'error': {'type': 'mapper_parsing_exception', 'reason': 'failed to parse', 'caused_by': {'type': 'not_x_content_exception', 'reason': 'Compressor detection can only be called on some xcontent bytes or compressed xcontent bytes'}}, 'data': title      Hogwarts Legacy - Before You Buy\nchannel                            gameranx\nviews                         1,8 M de vues\ndate                          il y a 1 jour\nName: 2, dtype: object}}])"
     ]
    }
   ],
   "source": [
    "from elasticsearch import Elasticsearch, helpers\n",
    "from elasticsearch_dsl import Document, Text, Integer\n",
    "from elasticsearch_dsl.connections import connections\n",
    "import pandas as pd\n",
    "\n",
    "es = Elasticsearch([{\"host\":\"localhost\",\"port\":9200}])\n",
    "connections.create_connection(hosts=['localhost'], timeout=20)\n",
    "\n",
    "df = pd.DataFrame({'title': ['Hogwarts Legacy - Official Launch Trailer 4K', 'Hogwarts Legacy Review', 'Hogwarts Legacy - Before You Buy'],\n",
    "                'channel': ['Hogwarts Legacy', 'IGN', 'gameranx'],\n",
    "                'views': ['3,2 M de vues', '1,8 M de vues', '1,8 M de vues'],\n",
    "                'date': ['il y a 6 jours', 'il y a 2 jours', 'il y a 1 jour']})\n",
    "\n",
    "def doc_generator(df):\n",
    "    df_iter= df.iterrows()\n",
    "    for index, document in df_iter:\n",
    "        yield{\n",
    "            \"_index\":\"video\",\n",
    "            \"_type\": \"_doc\",\n",
    "            \"_source\": document\n",
    "        }\n",
    "\n",
    "heplers.bulk(es, doc_generator(df))"
   ]
  }
 ],
 "metadata": {
  "kernelspec": {
   "display_name": "Python 3",
   "language": "python",
   "name": "python3"
  },
  "language_info": {
   "codemirror_mode": {
    "name": "ipython",
    "version": 3
   },
   "file_extension": ".py",
   "mimetype": "text/x-python",
   "name": "python",
   "nbconvert_exporter": "python",
   "pygments_lexer": "ipython3",
   "version": "3.10.7"
  },
  "orig_nbformat": 4,
  "vscode": {
   "interpreter": {
    "hash": "0284b1e34e494781da6537966084e394639bb3ab30a3ea3d0b2b75175f82c078"
   }
  }
 },
 "nbformat": 4,
 "nbformat_minor": 2
}
