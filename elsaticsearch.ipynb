{
 "cells": [
  {
   "cell_type": "code",
   "execution_count": 1,
   "metadata": {},
   "outputs": [],
   "source": [
    "from selenium import webdriver\n",
    "from webdriver_manager.chrome import ChromeDriverManager\n",
    "from selenium.webdriver.support.wait import WebDriverWait \n",
    "from selenium.webdriver.chrome.service import Service\n",
    "from selenium.webdriver.common.keys import Keys\n",
    "from selenium.webdriver.common.by import By\n",
    "import time \n",
    "import pandas as pd\n",
    "import pymongo\n",
    "from pymongo import MongoClient\n",
    "from elasticsearch import Elasticsearch\n",
    "from elasticsearch_dsl import Document, Text, Integer\n",
    "from elasticsearch.helpers import bulk\n",
    "import numpy as np"
   ]
  },
  {
   "cell_type": "code",
   "execution_count": 3,
   "metadata": {},
   "outputs": [
    {
     "name": "stdout",
     "output_type": "stream",
     "text": [
      "<class 'pandas.core.frame.DataFrame'>\n",
      "RangeIndex: 1477 entries, 0 to 1476\n",
      "Data columns (total 5 columns):\n",
      " #   Column                    Non-Null Count  Dtype \n",
      "---  ------                    --------------  ----- \n",
      " 0   Jeu                       1477 non-null   object\n",
      " 1   Titre                     1477 non-null   object\n",
      " 2   Chaîne                    1477 non-null   object\n",
      " 3   Nombre de vues            1477 non-null   object\n",
      " 4   Date de la mise en ligne  1477 non-null   object\n",
      "dtypes: object(5)\n",
      "memory usage: 57.8+ KB\n"
     ]
    }
   ],
   "source": [
    "df = pd.read_csv('data_youtube.csv',delimiter=',')\n",
    "df.info()"
   ]
  },
  {
   "cell_type": "code",
   "execution_count": 4,
   "metadata": {},
   "outputs": [
    {
     "data": {
      "text/html": [
       "<div>\n",
       "<style scoped>\n",
       "    .dataframe tbody tr th:only-of-type {\n",
       "        vertical-align: middle;\n",
       "    }\n",
       "\n",
       "    .dataframe tbody tr th {\n",
       "        vertical-align: top;\n",
       "    }\n",
       "\n",
       "    .dataframe thead th {\n",
       "        text-align: right;\n",
       "    }\n",
       "</style>\n",
       "<table border=\"1\" class=\"dataframe\">\n",
       "  <thead>\n",
       "    <tr style=\"text-align: right;\">\n",
       "      <th></th>\n",
       "      <th>Titre</th>\n",
       "      <th>Nombre de vues</th>\n",
       "    </tr>\n",
       "  </thead>\n",
       "  <tbody>\n",
       "    <tr>\n",
       "      <th>0</th>\n",
       "      <td>Trevor Didn't Forget 💀 || GTA V</td>\n",
       "      <td>1,8 M de vues</td>\n",
       "    </tr>\n",
       "    <tr>\n",
       "      <th>1</th>\n",
       "      <td>Completing the most painful dares in GTA 5</td>\n",
       "      <td>772 k vues</td>\n",
       "    </tr>\n",
       "    <tr>\n",
       "      <th>2</th>\n",
       "      <td>Which car can climb to the highest level in GT...</td>\n",
       "      <td>1 M de vues</td>\n",
       "    </tr>\n",
       "    <tr>\n",
       "      <th>3</th>\n",
       "      <td>Robbing a MOPAR DEALERSHIP in GTA 5 RP!</td>\n",
       "      <td>434 k vues</td>\n",
       "    </tr>\n",
       "    <tr>\n",
       "      <th>4</th>\n",
       "      <td>SHORTEST vs TALLEST PERSON in GTA 5!</td>\n",
       "      <td>654 k vues</td>\n",
       "    </tr>\n",
       "    <tr>\n",
       "      <th>...</th>\n",
       "      <td>...</td>\n",
       "      <td>...</td>\n",
       "    </tr>\n",
       "    <tr>\n",
       "      <th>1472</th>\n",
       "      <td>DragonFlight Gameplay. Unboxing Unclaimed Blac...</td>\n",
       "      <td>129 vues</td>\n",
       "    </tr>\n",
       "    <tr>\n",
       "      <th>1473</th>\n",
       "      <td>Allison's World of Warcraft Stream</td>\n",
       "      <td>53 vues</td>\n",
       "    </tr>\n",
       "    <tr>\n",
       "      <th>1474</th>\n",
       "      <td>I wish I found a girl in World Of Warcraft</td>\n",
       "      <td>339 vues</td>\n",
       "    </tr>\n",
       "    <tr>\n",
       "      <th>1475</th>\n",
       "      <td>Level With Me (Part 4) || World of Warcraft</td>\n",
       "      <td>41 vues</td>\n",
       "    </tr>\n",
       "    <tr>\n",
       "      <th>1476</th>\n",
       "      <td>WORLD OF WARCRAFT - How quickly did you get cu...</td>\n",
       "      <td>167 vues</td>\n",
       "    </tr>\n",
       "  </tbody>\n",
       "</table>\n",
       "<p>1477 rows × 2 columns</p>\n",
       "</div>"
      ],
      "text/plain": [
       "                                                  Titre Nombre de vues\n",
       "0                       Trevor Didn't Forget 💀 || GTA V  1,8 M de vues\n",
       "1            Completing the most painful dares in GTA 5     772 k vues\n",
       "2     Which car can climb to the highest level in GT...    1 M de vues\n",
       "3               Robbing a MOPAR DEALERSHIP in GTA 5 RP!     434 k vues\n",
       "4                  SHORTEST vs TALLEST PERSON in GTA 5!     654 k vues\n",
       "...                                                 ...            ...\n",
       "1472  DragonFlight Gameplay. Unboxing Unclaimed Blac...       129 vues\n",
       "1473                 Allison's World of Warcraft Stream        53 vues\n",
       "1474         I wish I found a girl in World Of Warcraft       339 vues\n",
       "1475        Level With Me (Part 4) || World of Warcraft        41 vues\n",
       "1476  WORLD OF WARCRAFT - How quickly did you get cu...       167 vues\n",
       "\n",
       "[1477 rows x 2 columns]"
      ]
     },
     "execution_count": 4,
     "metadata": {},
     "output_type": "execute_result"
    }
   ],
   "source": [
    "df2 = pd.concat([df['Titre'],df['Nombre de vues']],axis=1)\n",
    "df2 = df2.drop_duplicates()\n",
    "df2"
   ]
  },
  {
   "cell_type": "code",
   "execution_count": null,
   "metadata": {},
   "outputs": [],
   "source": []
  }
 ],
 "metadata": {
  "kernelspec": {
   "display_name": "Python 3",
   "language": "python",
   "name": "python3"
  },
  "language_info": {
   "codemirror_mode": {
    "name": "ipython",
    "version": 3
   },
   "file_extension": ".py",
   "mimetype": "text/x-python",
   "name": "python",
   "nbconvert_exporter": "python",
   "pygments_lexer": "ipython3",
   "version": "3.10.5"
  },
  "orig_nbformat": 4,
  "vscode": {
   "interpreter": {
    "hash": "09d3803e10886069cf0e36f5844e437960196b5be9b92d3a48d597acdd99e339"
   }
  }
 },
 "nbformat": 4,
 "nbformat_minor": 2
}
