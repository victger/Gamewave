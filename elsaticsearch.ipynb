{
 "cells": [
  {
   "cell_type": "code",
   "execution_count": 7,
   "metadata": {},
   "outputs": [
    {
     "name": "stdout",
     "output_type": "stream",
     "text": [
      "Hogwarts Legacy - Official Launch Trailer 4K Hogwarts Legacy 3,2 M de vues il y a 6 jours\n",
      "Hogwarts Legacy Review IGN 1,8 M de vues il y a 2 jours\n",
      "Hogwarts Legacy - Before You Buy gameranx 1,8 M de vues il y a 1 jour\n"
     ]
    }
   ],
   "source": [
    "\n",
    "from elasticsearch import Elasticsearch\n",
    "from elasticsearch_dsl import Document, InnerDoc, Nested, Text, Integer\n",
    "from elasticsearch_dsl.connections import connections\n",
    "import pandas as pd\n",
    "\n",
    "es = Elasticsearch([{\"host\":\"localhost\",\"port\":9200}])\n",
    "connections.create_connection(hosts=['localhost'], timeout=20)\n",
    "\n",
    "\n",
    "# Définition du Document Elasticsearch\n",
    "class Video(Document):\n",
    "    title = Text()\n",
    "    channel = Text()\n",
    "    views = Text()\n",
    "    date = Text()\n",
    "\n",
    "    class Index:\n",
    "        name = 'video_index'\n",
    "\n",
    "# Créer l'index dans Elasticsearch s'il n'existe pas\n",
    "Video.init()\n",
    "\n",
    "# Charger la dataframe Pandas\n",
    "df = pd.DataFrame({0: ['Hogwarts Legacy - Official Launch Trailer 4K', 'Hogwarts Legacy Review', 'Hogwarts Legacy - Before You Buy'],\n",
    "                1: ['Hogwarts Legacy', 'IGN', 'gameranx'],\n",
    "                2: ['3,2 M de vues', '1,8 M de vues', '1,8 M de vues'],\n",
    "                3: ['il y a 6 jours', 'il y a 2 jours', 'il y a 1 jour']})\n",
    "df.columns = ['title', 'channel', 'views', 'date']\n",
    "\n",
    "# Convertir la dataframe en objets Video\n",
    "objs = [Video(title=row['title'], channel=row['channel'], views=row['views'], date=row['date'])\n",
    "        for idx, row in df.iterrows()]\n",
    "\n",
    "# Insérer les objets dans Elasticsearch\n",
    "for obj in objs:\n",
    "    obj.save()\n",
    "\n",
    "results = Video.search().execute()\n",
    "for result in results:\n",
    "    print(result.title, result.channel, result.views, result.date)\n"
   ]
  },
  {
   "cell_type": "code",
   "execution_count": 10,
   "metadata": {},
   "outputs": [
    {
     "name": "stdout",
     "output_type": "stream",
     "text": [
      "Hogwarts Legacy - Official Launch Trailer 4K Hogwarts Legacy 3,2 M de vues il y a 6 jours\n",
      "Hogwarts Legacy Review IGN 1,8 M de vues il y a 2 jours\n",
      "Hogwarts Legacy - Before You Buy gameranx 1,8 M de vues il y a 1 jour\n",
      "Hogwarts Legacy - Official Launch Trailer 4K Hogwarts Legacy 3,2 M de vues il y a 6 jours\n",
      "Hogwarts Legacy Review IGN 1,8 M de vues il y a 2 jours\n",
      "Hogwarts Legacy - Before You Buy gameranx 1,8 M de vues il y a 1 jour\n",
      "Hogwarts Legacy - Official Launch Trailer 4K Hogwarts Legacy 3,2 M de vues il y a 6 jours\n",
      "Hogwarts Legacy Review IGN 1,8 M de vues il y a 2 jours\n",
      "Hogwarts Legacy - Before You Buy gameranx 1,8 M de vues il y a 1 jour\n",
      "Hogwarts Legacy - Official Launch Trailer 4K Hogwarts Legacy 3,2 M de vues il y a 6 jours\n"
     ]
    }
   ],
   "source": [
    "from elasticsearch import Elasticsearch\n",
    "from elasticsearch_dsl import Document, Text, Integer\n",
    "from elasticsearch_dsl.connections import connections\n",
    "import pandas as pd\n",
    "\n",
    "es = Elasticsearch([{\"host\":\"localhost\",\"port\":9200}])\n",
    "connections.create_connection(hosts=['localhost'], timeout=20)\n",
    "\n",
    "class Video(Document):\n",
    "    title = Text()\n",
    "    channel = Text()\n",
    "    views = Text()\n",
    "    date = Text()\n",
    "\n",
    "    class Index:\n",
    "        name = 'video_index'\n",
    "\n",
    "Video.init()\n",
    "\n",
    "df = pd.DataFrame({0: ['Hogwarts Legacy - Official Launch Trailer 4K', 'Hogwarts Legacy Review', 'Hogwarts Legacy - Before You Buy'],\n",
    "                1: ['Hogwarts Legacy', 'IGN', 'gameranx'],\n",
    "                2: ['3,2 M de vues', '1,8 M de vues', '1,8 M de vues'],\n",
    "                3: ['il y a 6 jours', 'il y a 2 jours', 'il y a 1 jour']})\n",
    "df.columns = ['title', 'channel', 'views', 'date']\n",
    "\n",
    "objs = [Video(title=row['title'], channel=row['channel'], views=row['views'], date=row['date'])\n",
    "        for idx, row in df.iterrows()]\n",
    "\n",
    "for obj in objs:\n",
    "    obj.save()\n",
    "\n",
    "results = Video.search().execute()\n",
    "for result in results:\n",
    "    print(result.title, result.channel, result.views, result.date)"
   ]
  },
  {
   "cell_type": "code",
   "execution_count": 3,
   "metadata": {},
   "outputs": [],
   "source": [
    "from elasticsearch import Elasticsearch\n",
    "es = Elasticsearch([{'host': 'localhost', 'port': 9200}])"
   ]
  },
  {
   "cell_type": "code",
   "execution_count": 4,
   "metadata": {},
   "outputs": [
    {
     "name": "stdout",
     "output_type": "stream",
     "text": [
      "(7, 0, 0)\n"
     ]
    }
   ],
   "source": [
    "import elasticsearch\n",
    "print(elasticsearch.__version__)"
   ]
  },
  {
   "cell_type": "code",
   "execution_count": 5,
   "metadata": {},
   "outputs": [
    {
     "ename": "TypeError",
     "evalue": "Elasticsearch.index() got an unexpected keyword argument 'document'",
     "output_type": "error",
     "traceback": [
      "\u001b[1;31m---------------------------------------------------------------------------\u001b[0m",
      "\u001b[1;31mTypeError\u001b[0m                                 Traceback (most recent call last)",
      "Cell \u001b[1;32mIn[5], line 10\u001b[0m\n\u001b[0;32m      3\u001b[0m es \u001b[39m=\u001b[39m Elasticsearch([{\u001b[39m\"\u001b[39m\u001b[39mhost\u001b[39m\u001b[39m\"\u001b[39m:\u001b[39m\"\u001b[39m\u001b[39mlocalhost\u001b[39m\u001b[39m\"\u001b[39m,\u001b[39m\"\u001b[39m\u001b[39mport\u001b[39m\u001b[39m\"\u001b[39m:\u001b[39m9200\u001b[39m}])\n\u001b[0;32m      5\u001b[0m doc \u001b[39m=\u001b[39m {\n\u001b[0;32m      6\u001b[0m     \u001b[39m'\u001b[39m\u001b[39mauthor\u001b[39m\u001b[39m'\u001b[39m: \u001b[39m'\u001b[39m\u001b[39mkimchy\u001b[39m\u001b[39m'\u001b[39m,\n\u001b[0;32m      7\u001b[0m     \u001b[39m'\u001b[39m\u001b[39mtext\u001b[39m\u001b[39m'\u001b[39m: \u001b[39m'\u001b[39m\u001b[39mElasticsearch: cool. bonsai cool.\u001b[39m\u001b[39m'\u001b[39m,\n\u001b[0;32m      8\u001b[0m     \u001b[39m'\u001b[39m\u001b[39mtimestamp\u001b[39m\u001b[39m'\u001b[39m: datetime\u001b[39m.\u001b[39mnow(),\n\u001b[0;32m      9\u001b[0m }\n\u001b[1;32m---> 10\u001b[0m res \u001b[39m=\u001b[39m es\u001b[39m.\u001b[39;49mindex(index\u001b[39m=\u001b[39;49m\u001b[39m\"\u001b[39;49m\u001b[39mtest-index\u001b[39;49m\u001b[39m\"\u001b[39;49m, \u001b[39mid\u001b[39;49m\u001b[39m=\u001b[39;49m\u001b[39m1\u001b[39;49m, document\u001b[39m=\u001b[39;49mdoc)\n\u001b[0;32m     11\u001b[0m \u001b[39mprint\u001b[39m(res[\u001b[39m'\u001b[39m\u001b[39mresult\u001b[39m\u001b[39m'\u001b[39m])\n\u001b[0;32m     13\u001b[0m res \u001b[39m=\u001b[39m es\u001b[39m.\u001b[39mget(index\u001b[39m=\u001b[39m\u001b[39m\"\u001b[39m\u001b[39mtest-index\u001b[39m\u001b[39m\"\u001b[39m, \u001b[39mid\u001b[39m\u001b[39m=\u001b[39m\u001b[39m1\u001b[39m)\n",
      "File \u001b[1;32mc:\\Users\\zakbe\\AppData\\Local\\Programs\\Python\\Python310\\lib\\site-packages\\elasticsearch\\client\\utils.py:84\u001b[0m, in \u001b[0;36mquery_params.<locals>._wrapper.<locals>._wrapped\u001b[1;34m(*args, **kwargs)\u001b[0m\n\u001b[0;32m     82\u001b[0m     \u001b[39mif\u001b[39;00m p \u001b[39min\u001b[39;00m kwargs:\n\u001b[0;32m     83\u001b[0m         params[p] \u001b[39m=\u001b[39m kwargs\u001b[39m.\u001b[39mpop(p)\n\u001b[1;32m---> 84\u001b[0m \u001b[39mreturn\u001b[39;00m func(\u001b[39m*\u001b[39margs, params\u001b[39m=\u001b[39mparams, \u001b[39m*\u001b[39m\u001b[39m*\u001b[39mkwargs)\n",
      "\u001b[1;31mTypeError\u001b[0m: Elasticsearch.index() got an unexpected keyword argument 'document'"
     ]
    }
   ],
   "source": [
    "from datetime import datetime\n",
    "from elasticsearch import Elasticsearch\n",
    "es = Elasticsearch([{\"host\":\"localhost\",\"port\":9200}])\n",
    "\n",
    "doc = {\n",
    "    'author': 'kimchy',\n",
    "    'text': 'Elasticsearch: cool. bonsai cool.',\n",
    "    'timestamp': datetime.now(),\n",
    "}\n",
    "res = es.index(index=\"test-index\", id=1, document=doc)\n",
    "print(res['result'])\n",
    "\n",
    "res = es.get(index=\"test-index\", id=1)\n",
    "print(res['_source'])\n",
    "\n",
    "es.indices.refresh(index=\"test-index\")\n",
    "\n",
    "res = es.search(index=\"test-index\", query={\"match_all\": {}})\n",
    "print(\"Got %d Hits:\" % res['hits']['total']['value'])\n",
    "for hit in res['hits']['hits']:\n",
    "    print(\"%(timestamp)s %(author)s: %(text)s\" % hit[\"_source\"])"
   ]
  }
 ],
 "metadata": {
  "kernelspec": {
   "display_name": "Python 3",
   "language": "python",
   "name": "python3"
  },
  "language_info": {
   "codemirror_mode": {
    "name": "ipython",
    "version": 3
   },
   "file_extension": ".py",
   "mimetype": "text/x-python",
   "name": "python",
   "nbconvert_exporter": "python",
   "pygments_lexer": "ipython3",
   "version": "3.10.5"
  },
  "orig_nbformat": 4,
  "vscode": {
   "interpreter": {
    "hash": "09d3803e10886069cf0e36f5844e437960196b5be9b92d3a48d597acdd99e339"
   }
  }
 },
 "nbformat": 4,
 "nbformat_minor": 2
}
