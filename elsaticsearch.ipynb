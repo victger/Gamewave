{
 "cells": [
  {
   "cell_type": "code",
   "execution_count": 8,
   "metadata": {},
   "outputs": [
    {
     "name": "stdout",
     "output_type": "stream",
     "text": [
      "Hogwarts Legacy - Official Launch Trailer 4K Hogwarts Legacy 3,2 M de vues il y a 6 jours\n",
      "Hogwarts Legacy Review IGN 1,8 M de vues il y a 2 jours\n",
      "Hogwarts Legacy - Before You Buy gameranx 1,8 M de vues il y a 1 jour\n"
     ]
    }
   ],
   "source": [
    "from elasticsearch import Elasticsearch\n",
    "from elasticsearch_dsl import Document, InnerDoc, Nested, Text, Integer\n",
    "from elasticsearch_dsl.connections import connections\n",
    "import pandas as pd\n",
    "\n",
    "es = Elasticsearch([{\"host\":\"localhost\",\"port\":9200}])\n",
    "connections.create_connection(hosts=['localhost'], timeout=20)\n",
    "\n",
    "# Définition du Document Elasticsearch\n",
    "class Video(Document):\n",
    "    title = Text()\n",
    "    channel = Text()\n",
    "    views = Text()\n",
    "    date = Text()\n",
    "\n",
    "    class Index:\n",
    "        name = 'video_index'\n",
    "\n",
    "# Créer l'index dans Elasticsearch s'il n'existe pas\n",
    "Video.init()\n",
    "\n",
    "# Charger la dataframe Pandas\n",
    "df = pd.DataFrame({0: ['Hogwarts Legacy - Official Launch Trailer 4K', 'Hogwarts Legacy Review', 'Hogwarts Legacy - Before You Buy'],\n",
    "                1: ['Hogwarts Legacy', 'IGN', 'gameranx'],\n",
    "                2: ['3,2 M de vues', '1,8 M de vues', '1,8 M de vues'],\n",
    "                3: ['il y a 6 jours', 'il y a 2 jours', 'il y a 1 jour']})\n",
    "df.columns = ['title', 'channel', 'views', 'date']\n",
    "\n",
    "# Convertir la dataframe en objets Video\n",
    "objs = [Video(title=row['title'], channel=row['channel'], views=row['views'], date=row['date'])\n",
    "        for idx, row in df.iterrows()]\n",
    "\n",
    "# Insérer les objets dans Elasticsearch\n",
    "for obj in objs:\n",
    "    obj.save()\n",
    "\n",
    "results = Video.search().execute()\n",
    "for result in results:\n",
    "    print(result.title, result.channel, result.views, result.date)\n",
    "\n"
   ]
  },
  {
   "cell_type": "code",
   "execution_count": 7,
   "metadata": {},
   "outputs": [
    {
     "data": {
      "text/plain": [
       "[Video(index='video_index', id='5Ho1PIYBhwBiCs16RFUh'),\n",
       " Video(index='video_index', id='5Xo1PIYBhwBiCs16RFU0'),\n",
       " Video(index='video_index', id='5no1PIYBhwBiCs16RFU_')]"
      ]
     },
     "execution_count": 7,
     "metadata": {},
     "output_type": "execute_result"
    }
   ],
   "source": [
    "objs"
   ]
  },
  {
   "cell_type": "code",
   "execution_count": 2,
   "metadata": {},
   "outputs": [
    {
     "name": "stdout",
     "output_type": "stream",
     "text": [
      "created\n",
      "{'author': 'kimchy', 'text': 'Elasticsearch: cool. bonsai cool.', 'timestamp': '2023-02-10T17:17:50.117750'}\n",
      "Got 1 Hits:\n",
      "2023-02-10T17:17:50.117750 kimchy: Elasticsearch: cool. bonsai cool.\n"
     ]
    }
   ],
   "source": [
    "from datetime import datetime\n",
    "from elasticsearch import Elasticsearch\n",
    "es = Elasticsearch([{\"host\":\"localhost\",\"port\":9200}])\n",
    "\n",
    "doc = {\n",
    "    'author': 'kimchy',\n",
    "    'text': 'Elasticsearch: cool. bonsai cool.',\n",
    "    'timestamp': datetime.now(),\n",
    "}\n",
    "res = es.index(index=\"test-index\", id=1, document=doc)\n",
    "print(res['result'])\n",
    "\n",
    "res = es.get(index=\"test-index\", id=1)\n",
    "print(res['_source'])\n",
    "\n",
    "es.indices.refresh(index=\"test-index\")\n",
    "\n",
    "res = es.search(index=\"test-index\", query={\"match_all\": {}})\n",
    "print(\"Got %d Hits:\" % res['hits']['total']['value'])\n",
    "for hit in res['hits']['hits']:\n",
    "    print(\"%(timestamp)s %(author)s: %(text)s\" % hit[\"_source\"])"
   ]
  }
 ],
 "metadata": {
  "kernelspec": {
   "display_name": "Python 3",
   "language": "python",
   "name": "python3"
  },
  "language_info": {
   "codemirror_mode": {
    "name": "ipython",
    "version": 3
   },
   "file_extension": ".py",
   "mimetype": "text/x-python",
   "name": "python",
   "nbconvert_exporter": "python",
   "pygments_lexer": "ipython3",
   "version": "3.11.2"
  },
  "orig_nbformat": 4,
  "vscode": {
   "interpreter": {
    "hash": "a63150de987f899cebd43a6732a505936996f6382751683e19db883cb60d7b25"
   }
  }
 },
 "nbformat": 4,
 "nbformat_minor": 2
}
