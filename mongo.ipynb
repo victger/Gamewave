{
 "cells": [
  {
   "cell_type": "code",
   "execution_count": 6,
   "metadata": {},
   "outputs": [
    {
     "name": "stdout",
     "output_type": "stream",
     "text": [
      "[{'title': 'Hogwarts Legacy - Official Launch Trailer 4K', 'channel': 'Hogwarts Legacy', 'views': '3,2 M de vues', 'date': 'il y a 6 jours', '_id': ObjectId('63e971e2d0dc8d9a60b3b992')}, {'title': 'Hogwarts Legacy Review', 'channel': 'IGN', 'views': '1,8 M de vues', 'date': 'il y a 2 jours', '_id': ObjectId('63e971e2d0dc8d9a60b3b993')}, {'title': 'Hogwarts Legacy - Before You Buy', 'channel': 'gameranx', 'views': '1,8 M de vues', 'date': 'il y a 1 jour', '_id': ObjectId('63e971e2d0dc8d9a60b3b994')}]\n"
     ]
    }
   ],
   "source": [
    "import pandas as pd\n",
    "import pymongo\n",
    "\n",
    "client = pymongo.MongoClient(\"mongodb://localhost:27017/\")\n",
    "db = client[\"Trend\"]\n",
    "collection = db[\"Vidéos\"]\n",
    "\n",
    "df = pd.DataFrame({'title': ['Hogwarts Legacy - Official Launch Trailer 4K', 'Hogwarts Legacy Review', 'Hogwarts Legacy - Before You Buy'],\n",
    "                'channel': ['Hogwarts Legacy', 'IGN', 'gameranx'],\n",
    "                'views': ['3,2 M de vues', '1,8 M de vues', '1,8 M de vues'],\n",
    "                'date': ['il y a 6 jours', 'il y a 2 jours', 'il y a 1 jour']})\n",
    "\n",
    "# Conversion du DataFrame en dictionnaires de documents pour l'insertion dans MongoDB\n",
    "docs = df.to_dict(orient='records')\n",
    "\n",
    "# Insertion des documents dans la collection\n",
    "collection.insert_many(docs)\n",
    "\n",
    "print(docs)"
   ]
  }
 ],
 "metadata": {
  "kernelspec": {
   "display_name": "Python 3",
   "language": "python",
   "name": "python3"
  },
  "language_info": {
   "codemirror_mode": {
    "name": "ipython",
    "version": 3
   },
   "file_extension": ".py",
   "mimetype": "text/x-python",
   "name": "python",
   "nbconvert_exporter": "python",
   "pygments_lexer": "ipython3",
   "version": "3.10.7"
  },
  "orig_nbformat": 4,
  "vscode": {
   "interpreter": {
    "hash": "0284b1e34e494781da6537966084e394639bb3ab30a3ea3d0b2b75175f82c078"
   }
  }
 },
 "nbformat": 4,
 "nbformat_minor": 2
}
