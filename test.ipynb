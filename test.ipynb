{
 "cells": [
  {
   "cell_type": "code",
   "execution_count": 15,
   "metadata": {},
   "outputs": [],
   "source": [
    "import pandas as pd\n",
    "\n",
    "df= pd.read_csv('data_youtube.csv')"
   ]
  },
  {
   "cell_type": "code",
   "execution_count": 16,
   "metadata": {},
   "outputs": [
    {
     "data": {
      "text/html": [
       "<div>\n",
       "<style scoped>\n",
       "    .dataframe tbody tr th:only-of-type {\n",
       "        vertical-align: middle;\n",
       "    }\n",
       "\n",
       "    .dataframe tbody tr th {\n",
       "        vertical-align: top;\n",
       "    }\n",
       "\n",
       "    .dataframe thead th {\n",
       "        text-align: right;\n",
       "    }\n",
       "</style>\n",
       "<table border=\"1\" class=\"dataframe\">\n",
       "  <thead>\n",
       "    <tr style=\"text-align: right;\">\n",
       "      <th></th>\n",
       "      <th>Jeu</th>\n",
       "      <th>Titre</th>\n",
       "      <th>Chaîne</th>\n",
       "      <th>Nombre de vues</th>\n",
       "      <th>Date de la mise en ligne</th>\n",
       "    </tr>\n",
       "  </thead>\n",
       "  <tbody>\n",
       "    <tr>\n",
       "      <th>0</th>\n",
       "      <td>Grand Theft Auto V</td>\n",
       "      <td>Trevor Didn't Forget 💀 || GTA V</td>\n",
       "      <td>HigHub</td>\n",
       "      <td>18000000</td>\n",
       "      <td>2023-02-21</td>\n",
       "    </tr>\n",
       "    <tr>\n",
       "      <th>1</th>\n",
       "      <td>Grand Theft Auto V</td>\n",
       "      <td>Completing the most painful dares in GTA 5</td>\n",
       "      <td>GrayStillPlays</td>\n",
       "      <td>772000</td>\n",
       "      <td>2023-02-20</td>\n",
       "    </tr>\n",
       "    <tr>\n",
       "      <th>2</th>\n",
       "      <td>Grand Theft Auto V</td>\n",
       "      <td>Which car can climb to the highest level in GT...</td>\n",
       "      <td>GrayStillPlays</td>\n",
       "      <td>1000000</td>\n",
       "      <td>2023-02-24</td>\n",
       "    </tr>\n",
       "    <tr>\n",
       "      <th>3</th>\n",
       "      <td>Grand Theft Auto V</td>\n",
       "      <td>Robbing a MOPAR DEALERSHIP in GTA 5 RP!</td>\n",
       "      <td>FuriousFade</td>\n",
       "      <td>434000</td>\n",
       "      <td>2023-02-20</td>\n",
       "    </tr>\n",
       "    <tr>\n",
       "      <th>4</th>\n",
       "      <td>Grand Theft Auto V</td>\n",
       "      <td>SHORTEST vs TALLEST PERSON in GTA 5!</td>\n",
       "      <td>Caylus</td>\n",
       "      <td>654000</td>\n",
       "      <td>2023-02-22</td>\n",
       "    </tr>\n",
       "  </tbody>\n",
       "</table>\n",
       "</div>"
      ],
      "text/plain": [
       "                  Jeu                                              Titre  \\\n",
       "0  Grand Theft Auto V                    Trevor Didn't Forget 💀 || GTA V   \n",
       "1  Grand Theft Auto V         Completing the most painful dares in GTA 5   \n",
       "2  Grand Theft Auto V  Which car can climb to the highest level in GT...   \n",
       "3  Grand Theft Auto V            Robbing a MOPAR DEALERSHIP in GTA 5 RP!   \n",
       "4  Grand Theft Auto V               SHORTEST vs TALLEST PERSON in GTA 5!   \n",
       "\n",
       "           Chaîne  Nombre de vues Date de la mise en ligne  \n",
       "0          HigHub        18000000               2023-02-21  \n",
       "1  GrayStillPlays          772000               2023-02-20  \n",
       "2  GrayStillPlays         1000000               2023-02-24  \n",
       "3     FuriousFade          434000               2023-02-20  \n",
       "4          Caylus          654000               2023-02-22  "
      ]
     },
     "execution_count": 16,
     "metadata": {},
     "output_type": "execute_result"
    }
   ],
   "source": [
    "df.head()"
   ]
  },
  {
   "cell_type": "code",
   "execution_count": 17,
   "metadata": {},
   "outputs": [],
   "source": [
    "add= \"T00:00:00.000Z\"\n",
    "df['Date de la mise en ligne'] = df['Date de la mise en ligne'].apply(lambda x: \"\".join([str(x),add]))"
   ]
  },
  {
   "cell_type": "code",
   "execution_count": 19,
   "metadata": {},
   "outputs": [
    {
     "data": {
      "text/html": [
       "<div>\n",
       "<style scoped>\n",
       "    .dataframe tbody tr th:only-of-type {\n",
       "        vertical-align: middle;\n",
       "    }\n",
       "\n",
       "    .dataframe tbody tr th {\n",
       "        vertical-align: top;\n",
       "    }\n",
       "\n",
       "    .dataframe thead th {\n",
       "        text-align: right;\n",
       "    }\n",
       "</style>\n",
       "<table border=\"1\" class=\"dataframe\">\n",
       "  <thead>\n",
       "    <tr style=\"text-align: right;\">\n",
       "      <th></th>\n",
       "      <th>Jeu</th>\n",
       "      <th>Titre</th>\n",
       "      <th>Chaîne</th>\n",
       "      <th>Nombre de vues</th>\n",
       "      <th>Date de la mise en ligne</th>\n",
       "    </tr>\n",
       "  </thead>\n",
       "  <tbody>\n",
       "    <tr>\n",
       "      <th>0</th>\n",
       "      <td>Grand Theft Auto V</td>\n",
       "      <td>Trevor Didn't Forget 💀 || GTA V</td>\n",
       "      <td>HigHub</td>\n",
       "      <td>18000000</td>\n",
       "      <td>2023-02-21T00:00:00.000Z</td>\n",
       "    </tr>\n",
       "    <tr>\n",
       "      <th>1</th>\n",
       "      <td>Grand Theft Auto V</td>\n",
       "      <td>Completing the most painful dares in GTA 5</td>\n",
       "      <td>GrayStillPlays</td>\n",
       "      <td>772000</td>\n",
       "      <td>2023-02-20T00:00:00.000Z</td>\n",
       "    </tr>\n",
       "    <tr>\n",
       "      <th>2</th>\n",
       "      <td>Grand Theft Auto V</td>\n",
       "      <td>Which car can climb to the highest level in GT...</td>\n",
       "      <td>GrayStillPlays</td>\n",
       "      <td>1000000</td>\n",
       "      <td>2023-02-24T00:00:00.000Z</td>\n",
       "    </tr>\n",
       "    <tr>\n",
       "      <th>3</th>\n",
       "      <td>Grand Theft Auto V</td>\n",
       "      <td>Robbing a MOPAR DEALERSHIP in GTA 5 RP!</td>\n",
       "      <td>FuriousFade</td>\n",
       "      <td>434000</td>\n",
       "      <td>2023-02-20T00:00:00.000Z</td>\n",
       "    </tr>\n",
       "    <tr>\n",
       "      <th>4</th>\n",
       "      <td>Grand Theft Auto V</td>\n",
       "      <td>SHORTEST vs TALLEST PERSON in GTA 5!</td>\n",
       "      <td>Caylus</td>\n",
       "      <td>654000</td>\n",
       "      <td>2023-02-22T00:00:00.000Z</td>\n",
       "    </tr>\n",
       "  </tbody>\n",
       "</table>\n",
       "</div>"
      ],
      "text/plain": [
       "                  Jeu                                              Titre  \\\n",
       "0  Grand Theft Auto V                    Trevor Didn't Forget 💀 || GTA V   \n",
       "1  Grand Theft Auto V         Completing the most painful dares in GTA 5   \n",
       "2  Grand Theft Auto V  Which car can climb to the highest level in GT...   \n",
       "3  Grand Theft Auto V            Robbing a MOPAR DEALERSHIP in GTA 5 RP!   \n",
       "4  Grand Theft Auto V               SHORTEST vs TALLEST PERSON in GTA 5!   \n",
       "\n",
       "           Chaîne  Nombre de vues  Date de la mise en ligne  \n",
       "0          HigHub        18000000  2023-02-21T00:00:00.000Z  \n",
       "1  GrayStillPlays          772000  2023-02-20T00:00:00.000Z  \n",
       "2  GrayStillPlays         1000000  2023-02-24T00:00:00.000Z  \n",
       "3     FuriousFade          434000  2023-02-20T00:00:00.000Z  \n",
       "4          Caylus          654000  2023-02-22T00:00:00.000Z  "
      ]
     },
     "execution_count": 19,
     "metadata": {},
     "output_type": "execute_result"
    }
   ],
   "source": [
    "df.head()"
   ]
  },
  {
   "cell_type": "code",
   "execution_count": 20,
   "metadata": {},
   "outputs": [],
   "source": [
    "df.to_csv('data_youtube.csv', index=False)"
   ]
  }
 ],
 "metadata": {
  "kernelspec": {
   "display_name": "Python 3",
   "language": "python",
   "name": "python3"
  },
  "language_info": {
   "codemirror_mode": {
    "name": "ipython",
    "version": 3
   },
   "file_extension": ".py",
   "mimetype": "text/x-python",
   "name": "python",
   "nbconvert_exporter": "python",
   "pygments_lexer": "ipython3",
   "version": "3.10.10"
  },
  "orig_nbformat": 4,
  "vscode": {
   "interpreter": {
    "hash": "0284b1e34e494781da6537966084e394639bb3ab30a3ea3d0b2b75175f82c078"
   }
  }
 },
 "nbformat": 4,
 "nbformat_minor": 2
}
