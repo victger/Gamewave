{
 "cells": [
  {
   "cell_type": "code",
   "execution_count": 5,
   "metadata": {},
   "outputs": [],
   "source": [
    "import pandas as pd\n",
    "\n",
    "df= pd.read_csv('data_youtube.csv')\n",
    "\n",
    "add= \"T00:00:00+01:00\"\n",
    "df['Date de la mise en ligne'] = df['Date de la mise en ligne'].apply(lambda x: \"\".join([str(x),add]))\n",
    "\n",
    "df.to_csv('data_youtube.csv', index=False)\n",
    "\n",
    "test=pd.read_csv(\"test.csv\")\n",
    "\n",
    "df['Date de la mise en ligne']= test['Date de la mise en ligne']"
   ]
  },
  {
   "cell_type": "code",
   "execution_count": 7,
   "metadata": {},
   "outputs": [],
   "source": [
    "df.to_csv('data_youtube.csv', index=False)"
   ]
  }
 ],
 "metadata": {
  "kernelspec": {
   "display_name": "Python 3",
   "language": "python",
   "name": "python3"
  },
  "language_info": {
   "codemirror_mode": {
    "name": "ipython",
    "version": 3
   },
   "file_extension": ".py",
   "mimetype": "text/x-python",
   "name": "python",
   "nbconvert_exporter": "python",
   "pygments_lexer": "ipython3",
   "version": "3.10.10"
  },
  "orig_nbformat": 4,
  "vscode": {
   "interpreter": {
    "hash": "0284b1e34e494781da6537966084e394639bb3ab30a3ea3d0b2b75175f82c078"
   }
  }
 },
 "nbformat": 4,
 "nbformat_minor": 2
}
